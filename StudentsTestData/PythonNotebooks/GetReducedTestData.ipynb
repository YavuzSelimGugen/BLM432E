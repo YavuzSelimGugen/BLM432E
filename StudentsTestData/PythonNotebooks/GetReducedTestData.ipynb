{
 "cells": [
  {
   "cell_type": "code",
   "execution_count": 1,
   "metadata": {},
   "outputs": [],
   "source": [
    "import math \n",
    "import numpy as np\n",
    "import pandas as pd\n",
    "import seaborn as sns\n",
    "import matplotlib.pyplot as plt\n",
    "from matplotlib import gridspec\n",
    "from sklearn import preprocessing\n",
    "%matplotlib inline\n",
    "import warnings\n",
    "warnings.filterwarnings('ignore')"
   ]
  },
  {
   "cell_type": "code",
   "execution_count": 2,
   "metadata": {},
   "outputs": [],
   "source": [
    "data_Original= pd.read_csv('../test_reduced.csv') # whole data \n",
    "data_Original.dropna(how='all', inplace=True) # remove rows which contain none at all columns\n",
    "#test_data_Original= test_data_Original.reindex()"
   ]
  },
  {
   "cell_type": "code",
   "execution_count": 3,
   "metadata": {},
   "outputs": [],
   "source": [
    "X_test= pd.DataFrame()\n",
    "X_test= data_Original.drop(['ID','y'], axis=1, inplace= False)\n",
    "y_test= data_Original['y']"
   ]
  },
  {
   "cell_type": "code",
   "execution_count": 4,
   "metadata": {},
   "outputs": [
    {
     "name": "stdout",
     "output_type": "stream",
     "text": [
      "   X0  X1  X2 X3 X4  X5 X6 X8  X10  X11  ...   X375  X376  X377  X378  X379  \\\n",
      "0   t   b  ae  c  d  ah  d  u    0    0  ...      0     0     1     0     0   \n",
      "1   y  aa  ay  c  d  af  l  p    1    0  ...      1     0     0     0     0   \n",
      "2  at   q  aq  c  d   c  d  s    0    0  ...      0     0     1     0     0   \n",
      "3   y   r  ak  f  d   v  i  b    0    0  ...      0     0     0     0     0   \n",
      "4   z   z  ai  c  d   s  d  j    0    0  ...      1     0     0     0     0   \n",
      "\n",
      "   X380  X382  X383  X384  X385  \n",
      "0     0     0     0     0     0  \n",
      "1     0     0     0     0     0  \n",
      "2     0     0     0     0     0  \n",
      "3     0     0     0     0     0  \n",
      "4     0     0     0     0     0  \n",
      "\n",
      "[5 rows x 376 columns]\n",
      "Index(['X0', 'X1', 'X2', 'X3', 'X4', 'X5', 'X6', 'X8', 'X10', 'X11',\n",
      "       ...\n",
      "       'X375', 'X376', 'X377', 'X378', 'X379', 'X380', 'X382', 'X383', 'X384',\n",
      "       'X385'],\n",
      "      dtype='object', length=376)\n"
     ]
    }
   ],
   "source": [
    "if __name__ == \"__main__\":\n",
    "    print(X_test.head())\n",
    "    print(X_test.columns)"
   ]
  },
  {
   "cell_type": "code",
   "execution_count": 5,
   "metadata": {},
   "outputs": [
    {
     "data": {
      "text/plain": [
       "0     89.09\n",
       "1     97.99\n",
       "2    111.66\n",
       "3     91.92\n",
       "4     88.10\n",
       "Name: y, dtype: float64"
      ]
     },
     "execution_count": 5,
     "metadata": {},
     "output_type": "execute_result"
    }
   ],
   "source": [
    "y_test.head()"
   ]
  },
  {
   "cell_type": "markdown",
   "metadata": {},
   "source": [
    "# Step1: Manipulate X"
   ]
  },
  {
   "cell_type": "code",
   "execution_count": 6,
   "metadata": {},
   "outputs": [
    {
     "name": "stdout",
     "output_type": "stream",
     "text": [
      "Index(['X10', 'X11', 'X12', 'X13', 'X14', 'X15', 'X16', 'X17', 'X18', 'X19',\n",
      "       ...\n",
      "       'X375', 'X376', 'X377', 'X378', 'X379', 'X380', 'X382', 'X383', 'X384',\n",
      "       'X385'],\n",
      "      dtype='object', length=368)\n"
     ]
    }
   ],
   "source": [
    "# numeric types --> house_num frame; categorical types --> house_cat frame\n",
    "if __name__ == \"__main__\":\n",
    "    print(X_test.select_dtypes(include=[np.number]).columns)"
   ]
  },
  {
   "cell_type": "code",
   "execution_count": 7,
   "metadata": {},
   "outputs": [
    {
     "name": "stdout",
     "output_type": "stream",
     "text": [
      "Index(['X0', 'X1', 'X2', 'X3', 'X4', 'X5', 'X6', 'X8'], dtype='object')\n"
     ]
    }
   ],
   "source": [
    "if __name__ == \"__main__\":\n",
    "    print(X_test.select_dtypes(exclude=[np.number]).columns)"
   ]
  },
  {
   "cell_type": "code",
   "execution_count": 8,
   "metadata": {},
   "outputs": [
    {
     "name": "stdout",
     "output_type": "stream",
     "text": [
      "   X0  X1  X2 X3 X4  X5 X6 X8\n",
      "0   t   b  ae  c  d  ah  d  u\n",
      "1   y  aa  ay  c  d  af  l  p\n",
      "2  at   q  aq  c  d   c  d  s\n",
      "3   y   r  ak  f  d   v  i  b\n",
      "4   z   z  ai  c  d   s  d  j\n"
     ]
    }
   ],
   "source": [
    "if __name__ == \"__main__\":\n",
    "    print(X_test[['X0', 'X1', 'X2', 'X3', 'X4', 'X5', 'X6', 'X8']].head())"
   ]
  },
  {
   "cell_type": "code",
   "execution_count": 9,
   "metadata": {},
   "outputs": [],
   "source": [
    "for col in X_test.select_dtypes(exclude=[np.number]).columns:\n",
    "    # create dummy variables using get_dummies, then exclude the first dummy column\n",
    "    dummies = pd.get_dummies(X_test[col], prefix=col).iloc[:, 1:]\n",
    "    \n",
    "    # concatenate the dummy variable columns onto the original DataFrame (axis=0 means rows, axis=1 means columns)\n",
    "    X_test = pd.concat([X_test, dummies], axis=1)\n",
    "    X_test.drop(col, axis=1, inplace=True)\n",
    "    X_test.head()"
   ]
  },
  {
   "cell_type": "code",
   "execution_count": 10,
   "metadata": {},
   "outputs": [
    {
     "name": "stdout",
     "output_type": "stream",
     "text": [
      "   X10  X11  X12  X13  X14  X15  X16  X17  X18  X19  ...  X8_p  X8_q  X8_r  \\\n",
      "0    0    0    0    0    0    0    0    0    0    0  ...     0     0     0   \n",
      "1    1    0    0    0    0    0    0    0    0    0  ...     1     0     0   \n",
      "2    0    0    0    0    1    0    0    0    0    0  ...     0     0     0   \n",
      "3    0    0    1    0    0    0    0    0    0    0  ...     0     0     0   \n",
      "4    0    0    0    0    0    0    0    0    0    1  ...     0     0     0   \n",
      "\n",
      "   X8_s  X8_t  X8_u  X8_v  X8_w  X8_x  X8_y  \n",
      "0     0     0     1     0     0     0     0  \n",
      "1     0     0     0     0     0     0     0  \n",
      "2     1     0     0     0     0     0     0  \n",
      "3     0     0     0     0     0     0     0  \n",
      "4     0     0     0     0     0     0     0  \n",
      "\n",
      "[5 rows x 509 columns]\n"
     ]
    }
   ],
   "source": [
    "if __name__ == \"__main__\":\n",
    "    print(X_test.head())"
   ]
  },
  {
   "cell_type": "code",
   "execution_count": null,
   "metadata": {
    "collapsed": true
   },
   "outputs": [],
   "source": []
  },
  {
   "cell_type": "code",
   "execution_count": null,
   "metadata": {
    "collapsed": true
   },
   "outputs": [],
   "source": []
  }
 ],
 "metadata": {
  "kernelspec": {
   "display_name": "Python 3",
   "language": "python",
   "name": "python3"
  },
  "language_info": {
   "codemirror_mode": {
    "name": "ipython",
    "version": 3
   },
   "file_extension": ".py",
   "mimetype": "text/x-python",
   "name": "python",
   "nbconvert_exporter": "python",
   "pygments_lexer": "ipython3",
   "version": "3.7.1"
  }
 },
 "nbformat": 4,
 "nbformat_minor": 2
}
