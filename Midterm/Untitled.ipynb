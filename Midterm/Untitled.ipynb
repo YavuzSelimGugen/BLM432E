{
 "cells": [
  {
   "cell_type": "code",
   "execution_count": 1,
   "metadata": {},
   "outputs": [],
   "source": [
    "import pandas as pd # pandas will be referred to as pd below\n",
    "import numpy\n",
    "import matplotlib.pyplot as plt\n",
    "import seaborn\n",
    "%matplotlib inline \n",
    "import warnings\n",
    "warnings.filterwarnings('ignore')"
   ]
  },
  {
   "cell_type": "code",
   "execution_count": 193,
   "metadata": {},
   "outputs": [],
   "source": [
    "elec_use= pd.read_csv('electricity_use_per_person.csv')\n",
    "median_age= pd.read_csv('median_age_years.csv')"
   ]
  },
  {
   "cell_type": "code",
   "execution_count": 194,
   "metadata": {
    "scrolled": true
   },
   "outputs": [],
   "source": [
    "elec_use = elec_use[['country', '1975','1980','1985','1990','1995','2000','2005','2010']]\n",
    "elec_use = elec_use.dropna()"
   ]
  },
  {
   "cell_type": "code",
   "execution_count": 195,
   "metadata": {},
   "outputs": [],
   "source": [
    "median_age = median_age[['country','1975','1980' ,'1985','1990','1995','2000','2005','2010']]"
   ]
  },
  {
   "cell_type": "code",
   "execution_count": 196,
   "metadata": {},
   "outputs": [],
   "source": [
    "melt1 = pd.melt(elec_use, id_vars=[\"country\"], value_vars=['1975','1980' ,'1985','1990','1995','2000','2005','2010'], value_name='Elec_usage')\n",
    "melt2 = pd.melt(median_age, id_vars=[\"country\"], value_vars=['1975','1980' ,'1985','1990','1995','2000','2005','2010'], value_name='Median_Age')\n",
    "#melt2.set_index('country',inplace=True)"
   ]
  },
  {
   "cell_type": "code",
   "execution_count": 197,
   "metadata": {
    "scrolled": false
   },
   "outputs": [
    {
     "data": {
      "text/html": [
       "<div>\n",
       "<style scoped>\n",
       "    .dataframe tbody tr th:only-of-type {\n",
       "        vertical-align: middle;\n",
       "    }\n",
       "\n",
       "    .dataframe tbody tr th {\n",
       "        vertical-align: top;\n",
       "    }\n",
       "\n",
       "    .dataframe thead th {\n",
       "        text-align: right;\n",
       "    }\n",
       "</style>\n",
       "<table border=\"1\" class=\"dataframe\">\n",
       "  <thead>\n",
       "    <tr style=\"text-align: right;\">\n",
       "      <th></th>\n",
       "      <th>country</th>\n",
       "      <th>variable</th>\n",
       "      <th>Elec_usage</th>\n",
       "    </tr>\n",
       "  </thead>\n",
       "  <tbody>\n",
       "    <tr>\n",
       "      <th>99</th>\n",
       "      <td>Turkey</td>\n",
       "      <td>1975</td>\n",
       "      <td>359.0</td>\n",
       "    </tr>\n",
       "    <tr>\n",
       "      <th>208</th>\n",
       "      <td>Turkey</td>\n",
       "      <td>1980</td>\n",
       "      <td>496.0</td>\n",
       "    </tr>\n",
       "    <tr>\n",
       "      <th>317</th>\n",
       "      <td>Turkey</td>\n",
       "      <td>1985</td>\n",
       "      <td>660.0</td>\n",
       "    </tr>\n",
       "    <tr>\n",
       "      <th>426</th>\n",
       "      <td>Turkey</td>\n",
       "      <td>1990</td>\n",
       "      <td>930.0</td>\n",
       "    </tr>\n",
       "    <tr>\n",
       "      <th>535</th>\n",
       "      <td>Turkey</td>\n",
       "      <td>1995</td>\n",
       "      <td>1230.0</td>\n",
       "    </tr>\n",
       "    <tr>\n",
       "      <th>644</th>\n",
       "      <td>Turkey</td>\n",
       "      <td>2000</td>\n",
       "      <td>1650.0</td>\n",
       "    </tr>\n",
       "    <tr>\n",
       "      <th>753</th>\n",
       "      <td>Turkey</td>\n",
       "      <td>2005</td>\n",
       "      <td>2010.0</td>\n",
       "    </tr>\n",
       "    <tr>\n",
       "      <th>862</th>\n",
       "      <td>Turkey</td>\n",
       "      <td>2010</td>\n",
       "      <td>2490.0</td>\n",
       "    </tr>\n",
       "  </tbody>\n",
       "</table>\n",
       "</div>"
      ],
      "text/plain": [
       "    country variable  Elec_usage\n",
       "99   Turkey     1975       359.0\n",
       "208  Turkey     1980       496.0\n",
       "317  Turkey     1985       660.0\n",
       "426  Turkey     1990       930.0\n",
       "535  Turkey     1995      1230.0\n",
       "644  Turkey     2000      1650.0\n",
       "753  Turkey     2005      2010.0\n",
       "862  Turkey     2010      2490.0"
      ]
     },
     "execution_count": 197,
     "metadata": {},
     "output_type": "execute_result"
    }
   ],
   "source": [
    "#melt2\n",
    "#melt2[melt2[\"country\"] == 'Turkey']\n",
    "melt1[melt1[\"country\"] == 'Turkey']"
   ]
  },
  {
   "cell_type": "code",
   "execution_count": 198,
   "metadata": {},
   "outputs": [
    {
     "data": {
      "text/html": [
       "<div>\n",
       "<style scoped>\n",
       "    .dataframe tbody tr th:only-of-type {\n",
       "        vertical-align: middle;\n",
       "    }\n",
       "\n",
       "    .dataframe tbody tr th {\n",
       "        vertical-align: top;\n",
       "    }\n",
       "\n",
       "    .dataframe thead th {\n",
       "        text-align: right;\n",
       "    }\n",
       "</style>\n",
       "<table border=\"1\" class=\"dataframe\">\n",
       "  <thead>\n",
       "    <tr style=\"text-align: right;\">\n",
       "      <th></th>\n",
       "      <th>country</th>\n",
       "      <th>variable</th>\n",
       "      <th>Median_Age</th>\n",
       "    </tr>\n",
       "  </thead>\n",
       "  <tbody>\n",
       "    <tr>\n",
       "      <th>169</th>\n",
       "      <td>Turkey</td>\n",
       "      <td>1975</td>\n",
       "      <td>19.6</td>\n",
       "    </tr>\n",
       "    <tr>\n",
       "      <th>353</th>\n",
       "      <td>Turkey</td>\n",
       "      <td>1980</td>\n",
       "      <td>20.0</td>\n",
       "    </tr>\n",
       "    <tr>\n",
       "      <th>537</th>\n",
       "      <td>Turkey</td>\n",
       "      <td>1985</td>\n",
       "      <td>21.0</td>\n",
       "    </tr>\n",
       "    <tr>\n",
       "      <th>721</th>\n",
       "      <td>Turkey</td>\n",
       "      <td>1990</td>\n",
       "      <td>22.1</td>\n",
       "    </tr>\n",
       "    <tr>\n",
       "      <th>905</th>\n",
       "      <td>Turkey</td>\n",
       "      <td>1995</td>\n",
       "      <td>23.5</td>\n",
       "    </tr>\n",
       "    <tr>\n",
       "      <th>1089</th>\n",
       "      <td>Turkey</td>\n",
       "      <td>2000</td>\n",
       "      <td>24.9</td>\n",
       "    </tr>\n",
       "    <tr>\n",
       "      <th>1273</th>\n",
       "      <td>Turkey</td>\n",
       "      <td>2005</td>\n",
       "      <td>26.6</td>\n",
       "    </tr>\n",
       "    <tr>\n",
       "      <th>1457</th>\n",
       "      <td>Turkey</td>\n",
       "      <td>2010</td>\n",
       "      <td>28.3</td>\n",
       "    </tr>\n",
       "  </tbody>\n",
       "</table>\n",
       "</div>"
      ],
      "text/plain": [
       "     country variable  Median_Age\n",
       "169   Turkey     1975        19.6\n",
       "353   Turkey     1980        20.0\n",
       "537   Turkey     1985        21.0\n",
       "721   Turkey     1990        22.1\n",
       "905   Turkey     1995        23.5\n",
       "1089  Turkey     2000        24.9\n",
       "1273  Turkey     2005        26.6\n",
       "1457  Turkey     2010        28.3"
      ]
     },
     "execution_count": 198,
     "metadata": {},
     "output_type": "execute_result"
    }
   ],
   "source": [
    "melt2[melt2[\"country\"] == 'Turkey']"
   ]
  },
  {
   "cell_type": "code",
   "execution_count": 199,
   "metadata": {},
   "outputs": [],
   "source": [
    "#melt1.set_index('country',inplace=True)\n",
    "#melt2.set_index('country',inplace=True)\n",
    "merged= pd.merge(melt1, melt2,how='inner', left_on=['country','variable'], right_on=['country','variable'])"
   ]
  },
  {
   "cell_type": "code",
   "execution_count": 200,
   "metadata": {},
   "outputs": [
    {
     "data": {
      "text/html": [
       "<div>\n",
       "<style scoped>\n",
       "    .dataframe tbody tr th:only-of-type {\n",
       "        vertical-align: middle;\n",
       "    }\n",
       "\n",
       "    .dataframe tbody tr th {\n",
       "        vertical-align: top;\n",
       "    }\n",
       "\n",
       "    .dataframe thead th {\n",
       "        text-align: right;\n",
       "    }\n",
       "</style>\n",
       "<table border=\"1\" class=\"dataframe\">\n",
       "  <thead>\n",
       "    <tr style=\"text-align: right;\">\n",
       "      <th></th>\n",
       "      <th>country</th>\n",
       "      <th>variable</th>\n",
       "      <th>Elec_usage</th>\n",
       "      <th>Median_Age</th>\n",
       "    </tr>\n",
       "  </thead>\n",
       "  <tbody>\n",
       "    <tr>\n",
       "      <th>99</th>\n",
       "      <td>Turkey</td>\n",
       "      <td>1975</td>\n",
       "      <td>359.0</td>\n",
       "      <td>19.6</td>\n",
       "    </tr>\n",
       "    <tr>\n",
       "      <th>208</th>\n",
       "      <td>Turkey</td>\n",
       "      <td>1980</td>\n",
       "      <td>496.0</td>\n",
       "      <td>20.0</td>\n",
       "    </tr>\n",
       "    <tr>\n",
       "      <th>317</th>\n",
       "      <td>Turkey</td>\n",
       "      <td>1985</td>\n",
       "      <td>660.0</td>\n",
       "      <td>21.0</td>\n",
       "    </tr>\n",
       "    <tr>\n",
       "      <th>426</th>\n",
       "      <td>Turkey</td>\n",
       "      <td>1990</td>\n",
       "      <td>930.0</td>\n",
       "      <td>22.1</td>\n",
       "    </tr>\n",
       "    <tr>\n",
       "      <th>535</th>\n",
       "      <td>Turkey</td>\n",
       "      <td>1995</td>\n",
       "      <td>1230.0</td>\n",
       "      <td>23.5</td>\n",
       "    </tr>\n",
       "    <tr>\n",
       "      <th>644</th>\n",
       "      <td>Turkey</td>\n",
       "      <td>2000</td>\n",
       "      <td>1650.0</td>\n",
       "      <td>24.9</td>\n",
       "    </tr>\n",
       "    <tr>\n",
       "      <th>753</th>\n",
       "      <td>Turkey</td>\n",
       "      <td>2005</td>\n",
       "      <td>2010.0</td>\n",
       "      <td>26.6</td>\n",
       "    </tr>\n",
       "    <tr>\n",
       "      <th>862</th>\n",
       "      <td>Turkey</td>\n",
       "      <td>2010</td>\n",
       "      <td>2490.0</td>\n",
       "      <td>28.3</td>\n",
       "    </tr>\n",
       "  </tbody>\n",
       "</table>\n",
       "</div>"
      ],
      "text/plain": [
       "    country variable  Elec_usage  Median_Age\n",
       "99   Turkey     1975       359.0        19.6\n",
       "208  Turkey     1980       496.0        20.0\n",
       "317  Turkey     1985       660.0        21.0\n",
       "426  Turkey     1990       930.0        22.1\n",
       "535  Turkey     1995      1230.0        23.5\n",
       "644  Turkey     2000      1650.0        24.9\n",
       "753  Turkey     2005      2010.0        26.6\n",
       "862  Turkey     2010      2490.0        28.3"
      ]
     },
     "execution_count": 200,
     "metadata": {},
     "output_type": "execute_result"
    }
   ],
   "source": [
    "merged[merged[\"country\"] == 'Turkey']"
   ]
  },
  {
   "cell_type": "code",
   "execution_count": 201,
   "metadata": {
    "scrolled": true
   },
   "outputs": [],
   "source": [
    "data = merged.rename(columns={'variable': 'Year', 'country': 'Country'})"
   ]
  },
  {
   "cell_type": "code",
   "execution_count": 202,
   "metadata": {
    "scrolled": true
   },
   "outputs": [
    {
     "data": {
      "text/html": [
       "<div>\n",
       "<style scoped>\n",
       "    .dataframe tbody tr th:only-of-type {\n",
       "        vertical-align: middle;\n",
       "    }\n",
       "\n",
       "    .dataframe tbody tr th {\n",
       "        vertical-align: top;\n",
       "    }\n",
       "\n",
       "    .dataframe thead th {\n",
       "        text-align: right;\n",
       "    }\n",
       "</style>\n",
       "<table border=\"1\" class=\"dataframe\">\n",
       "  <thead>\n",
       "    <tr style=\"text-align: right;\">\n",
       "      <th></th>\n",
       "      <th>Country</th>\n",
       "      <th>Year</th>\n",
       "      <th>Elec_usage</th>\n",
       "      <th>Median_Age</th>\n",
       "    </tr>\n",
       "  </thead>\n",
       "  <tbody>\n",
       "    <tr>\n",
       "      <th>0</th>\n",
       "      <td>Albania</td>\n",
       "      <td>1975</td>\n",
       "      <td>739.0</td>\n",
       "      <td>20.2</td>\n",
       "    </tr>\n",
       "    <tr>\n",
       "      <th>1</th>\n",
       "      <td>Algeria</td>\n",
       "      <td>1975</td>\n",
       "      <td>195.0</td>\n",
       "      <td>16.5</td>\n",
       "    </tr>\n",
       "    <tr>\n",
       "      <th>2</th>\n",
       "      <td>Angola</td>\n",
       "      <td>1975</td>\n",
       "      <td>127.0</td>\n",
       "      <td>16.6</td>\n",
       "    </tr>\n",
       "    <tr>\n",
       "      <th>3</th>\n",
       "      <td>Argentina</td>\n",
       "      <td>1975</td>\n",
       "      <td>1000.0</td>\n",
       "      <td>27.4</td>\n",
       "    </tr>\n",
       "    <tr>\n",
       "      <th>4</th>\n",
       "      <td>Australia</td>\n",
       "      <td>1975</td>\n",
       "      <td>4780.0</td>\n",
       "      <td>28.1</td>\n",
       "    </tr>\n",
       "    <tr>\n",
       "      <th>5</th>\n",
       "      <td>Austria</td>\n",
       "      <td>1975</td>\n",
       "      <td>3730.0</td>\n",
       "      <td>33.9</td>\n",
       "    </tr>\n",
       "    <tr>\n",
       "      <th>6</th>\n",
       "      <td>Bahrain</td>\n",
       "      <td>1975</td>\n",
       "      <td>2630.0</td>\n",
       "      <td>19.3</td>\n",
       "    </tr>\n",
       "    <tr>\n",
       "      <th>7</th>\n",
       "      <td>Bangladesh</td>\n",
       "      <td>1975</td>\n",
       "      <td>17.0</td>\n",
       "      <td>17.6</td>\n",
       "    </tr>\n",
       "    <tr>\n",
       "      <th>8</th>\n",
       "      <td>Belgium</td>\n",
       "      <td>1975</td>\n",
       "      <td>3890.0</td>\n",
       "      <td>34.3</td>\n",
       "    </tr>\n",
       "    <tr>\n",
       "      <th>9</th>\n",
       "      <td>Benin</td>\n",
       "      <td>1975</td>\n",
       "      <td>18.1</td>\n",
       "      <td>18.3</td>\n",
       "    </tr>\n",
       "    <tr>\n",
       "      <th>10</th>\n",
       "      <td>Bolivia</td>\n",
       "      <td>1975</td>\n",
       "      <td>189.0</td>\n",
       "      <td>18.6</td>\n",
       "    </tr>\n",
       "    <tr>\n",
       "      <th>11</th>\n",
       "      <td>Brazil</td>\n",
       "      <td>1975</td>\n",
       "      <td>649.0</td>\n",
       "      <td>19.5</td>\n",
       "    </tr>\n",
       "    <tr>\n",
       "      <th>12</th>\n",
       "      <td>Brunei</td>\n",
       "      <td>1975</td>\n",
       "      <td>1480.0</td>\n",
       "      <td>19.6</td>\n",
       "    </tr>\n",
       "    <tr>\n",
       "      <th>13</th>\n",
       "      <td>Bulgaria</td>\n",
       "      <td>1975</td>\n",
       "      <td>3040.0</td>\n",
       "      <td>33.7</td>\n",
       "    </tr>\n",
       "    <tr>\n",
       "      <th>14</th>\n",
       "      <td>Cameroon</td>\n",
       "      <td>1975</td>\n",
       "      <td>175.0</td>\n",
       "      <td>18.4</td>\n",
       "    </tr>\n",
       "    <tr>\n",
       "      <th>15</th>\n",
       "      <td>Canada</td>\n",
       "      <td>1975</td>\n",
       "      <td>10400.0</td>\n",
       "      <td>27.5</td>\n",
       "    </tr>\n",
       "    <tr>\n",
       "      <th>16</th>\n",
       "      <td>Chile</td>\n",
       "      <td>1975</td>\n",
       "      <td>742.0</td>\n",
       "      <td>21.5</td>\n",
       "    </tr>\n",
       "    <tr>\n",
       "      <th>17</th>\n",
       "      <td>China</td>\n",
       "      <td>1975</td>\n",
       "      <td>199.0</td>\n",
       "      <td>20.4</td>\n",
       "    </tr>\n",
       "    <tr>\n",
       "      <th>18</th>\n",
       "      <td>Colombia</td>\n",
       "      <td>1975</td>\n",
       "      <td>442.0</td>\n",
       "      <td>17.8</td>\n",
       "    </tr>\n",
       "    <tr>\n",
       "      <th>19</th>\n",
       "      <td>Congo, Dem. Rep.</td>\n",
       "      <td>1975</td>\n",
       "      <td>167.0</td>\n",
       "      <td>17.8</td>\n",
       "    </tr>\n",
       "    <tr>\n",
       "      <th>20</th>\n",
       "      <td>Congo, Rep.</td>\n",
       "      <td>1975</td>\n",
       "      <td>64.1</td>\n",
       "      <td>17.9</td>\n",
       "    </tr>\n",
       "    <tr>\n",
       "      <th>21</th>\n",
       "      <td>Costa Rica</td>\n",
       "      <td>1975</td>\n",
       "      <td>730.0</td>\n",
       "      <td>19.3</td>\n",
       "    </tr>\n",
       "    <tr>\n",
       "      <th>22</th>\n",
       "      <td>Cote d'Ivoire</td>\n",
       "      <td>1975</td>\n",
       "      <td>122.0</td>\n",
       "      <td>17.6</td>\n",
       "    </tr>\n",
       "    <tr>\n",
       "      <th>23</th>\n",
       "      <td>Cuba</td>\n",
       "      <td>1975</td>\n",
       "      <td>623.0</td>\n",
       "      <td>22.3</td>\n",
       "    </tr>\n",
       "    <tr>\n",
       "      <th>24</th>\n",
       "      <td>Cyprus</td>\n",
       "      <td>1975</td>\n",
       "      <td>1030.0</td>\n",
       "      <td>27.4</td>\n",
       "    </tr>\n",
       "    <tr>\n",
       "      <th>25</th>\n",
       "      <td>Czech Republic</td>\n",
       "      <td>1975</td>\n",
       "      <td>4030.0</td>\n",
       "      <td>32.7</td>\n",
       "    </tr>\n",
       "    <tr>\n",
       "      <th>26</th>\n",
       "      <td>Denmark</td>\n",
       "      <td>1975</td>\n",
       "      <td>3410.0</td>\n",
       "      <td>33.0</td>\n",
       "    </tr>\n",
       "    <tr>\n",
       "      <th>27</th>\n",
       "      <td>Dominican Republic</td>\n",
       "      <td>1975</td>\n",
       "      <td>402.0</td>\n",
       "      <td>17.0</td>\n",
       "    </tr>\n",
       "    <tr>\n",
       "      <th>28</th>\n",
       "      <td>Ecuador</td>\n",
       "      <td>1975</td>\n",
       "      <td>196.0</td>\n",
       "      <td>18.1</td>\n",
       "    </tr>\n",
       "    <tr>\n",
       "      <th>29</th>\n",
       "      <td>Egypt</td>\n",
       "      <td>1975</td>\n",
       "      <td>236.0</td>\n",
       "      <td>19.2</td>\n",
       "    </tr>\n",
       "    <tr>\n",
       "      <th>...</th>\n",
       "      <td>...</td>\n",
       "      <td>...</td>\n",
       "      <td>...</td>\n",
       "      <td>...</td>\n",
       "    </tr>\n",
       "    <tr>\n",
       "      <th>842</th>\n",
       "      <td>Portugal</td>\n",
       "      <td>2010</td>\n",
       "      <td>4960.0</td>\n",
       "      <td>41.6</td>\n",
       "    </tr>\n",
       "    <tr>\n",
       "      <th>843</th>\n",
       "      <td>Qatar</td>\n",
       "      <td>2010</td>\n",
       "      <td>14800.0</td>\n",
       "      <td>31.8</td>\n",
       "    </tr>\n",
       "    <tr>\n",
       "      <th>844</th>\n",
       "      <td>Romania</td>\n",
       "      <td>2010</td>\n",
       "      <td>2550.0</td>\n",
       "      <td>39.4</td>\n",
       "    </tr>\n",
       "    <tr>\n",
       "      <th>845</th>\n",
       "      <td>Saudi Arabia</td>\n",
       "      <td>2010</td>\n",
       "      <td>7970.0</td>\n",
       "      <td>25.9</td>\n",
       "    </tr>\n",
       "    <tr>\n",
       "      <th>846</th>\n",
       "      <td>Senegal</td>\n",
       "      <td>2010</td>\n",
       "      <td>199.0</td>\n",
       "      <td>18.1</td>\n",
       "    </tr>\n",
       "    <tr>\n",
       "      <th>847</th>\n",
       "      <td>Singapore</td>\n",
       "      <td>2010</td>\n",
       "      <td>8680.0</td>\n",
       "      <td>37.3</td>\n",
       "    </tr>\n",
       "    <tr>\n",
       "      <th>848</th>\n",
       "      <td>Slovak Republic</td>\n",
       "      <td>2010</td>\n",
       "      <td>5200.0</td>\n",
       "      <td>37.3</td>\n",
       "    </tr>\n",
       "    <tr>\n",
       "      <th>849</th>\n",
       "      <td>South Africa</td>\n",
       "      <td>2010</td>\n",
       "      <td>4510.0</td>\n",
       "      <td>24.8</td>\n",
       "    </tr>\n",
       "    <tr>\n",
       "      <th>850</th>\n",
       "      <td>South Korea</td>\n",
       "      <td>2010</td>\n",
       "      <td>9720.0</td>\n",
       "      <td>38.0</td>\n",
       "    </tr>\n",
       "    <tr>\n",
       "      <th>851</th>\n",
       "      <td>Spain</td>\n",
       "      <td>2010</td>\n",
       "      <td>5710.0</td>\n",
       "      <td>40.6</td>\n",
       "    </tr>\n",
       "    <tr>\n",
       "      <th>852</th>\n",
       "      <td>Sri Lanka</td>\n",
       "      <td>2010</td>\n",
       "      <td>461.0</td>\n",
       "      <td>30.4</td>\n",
       "    </tr>\n",
       "    <tr>\n",
       "      <th>853</th>\n",
       "      <td>Sudan</td>\n",
       "      <td>2010</td>\n",
       "      <td>131.0</td>\n",
       "      <td>18.3</td>\n",
       "    </tr>\n",
       "    <tr>\n",
       "      <th>854</th>\n",
       "      <td>Sweden</td>\n",
       "      <td>2010</td>\n",
       "      <td>14900.0</td>\n",
       "      <td>40.7</td>\n",
       "    </tr>\n",
       "    <tr>\n",
       "      <th>855</th>\n",
       "      <td>Switzerland</td>\n",
       "      <td>2010</td>\n",
       "      <td>8170.0</td>\n",
       "      <td>41.6</td>\n",
       "    </tr>\n",
       "    <tr>\n",
       "      <th>856</th>\n",
       "      <td>Syria</td>\n",
       "      <td>2010</td>\n",
       "      <td>1850.0</td>\n",
       "      <td>21.5</td>\n",
       "    </tr>\n",
       "    <tr>\n",
       "      <th>857</th>\n",
       "      <td>Tanzania</td>\n",
       "      <td>2010</td>\n",
       "      <td>93.0</td>\n",
       "      <td>17.2</td>\n",
       "    </tr>\n",
       "    <tr>\n",
       "      <th>858</th>\n",
       "      <td>Thailand</td>\n",
       "      <td>2010</td>\n",
       "      <td>2310.0</td>\n",
       "      <td>35.5</td>\n",
       "    </tr>\n",
       "    <tr>\n",
       "      <th>859</th>\n",
       "      <td>Togo</td>\n",
       "      <td>2010</td>\n",
       "      <td>123.0</td>\n",
       "      <td>18.6</td>\n",
       "    </tr>\n",
       "    <tr>\n",
       "      <th>860</th>\n",
       "      <td>Trinidad and Tobago</td>\n",
       "      <td>2010</td>\n",
       "      <td>6190.0</td>\n",
       "      <td>31.9</td>\n",
       "    </tr>\n",
       "    <tr>\n",
       "      <th>861</th>\n",
       "      <td>Tunisia</td>\n",
       "      <td>2010</td>\n",
       "      <td>1360.0</td>\n",
       "      <td>29.2</td>\n",
       "    </tr>\n",
       "    <tr>\n",
       "      <th>862</th>\n",
       "      <td>Turkey</td>\n",
       "      <td>2010</td>\n",
       "      <td>2490.0</td>\n",
       "      <td>28.3</td>\n",
       "    </tr>\n",
       "    <tr>\n",
       "      <th>863</th>\n",
       "      <td>United Arab Emirates</td>\n",
       "      <td>2010</td>\n",
       "      <td>11000.0</td>\n",
       "      <td>31.9</td>\n",
       "    </tr>\n",
       "    <tr>\n",
       "      <th>864</th>\n",
       "      <td>United Kingdom</td>\n",
       "      <td>2010</td>\n",
       "      <td>5700.0</td>\n",
       "      <td>39.6</td>\n",
       "    </tr>\n",
       "    <tr>\n",
       "      <th>865</th>\n",
       "      <td>United States</td>\n",
       "      <td>2010</td>\n",
       "      <td>13400.0</td>\n",
       "      <td>36.9</td>\n",
       "    </tr>\n",
       "    <tr>\n",
       "      <th>866</th>\n",
       "      <td>Uruguay</td>\n",
       "      <td>2010</td>\n",
       "      <td>2800.0</td>\n",
       "      <td>33.7</td>\n",
       "    </tr>\n",
       "    <tr>\n",
       "      <th>867</th>\n",
       "      <td>Venezuela</td>\n",
       "      <td>2010</td>\n",
       "      <td>3130.0</td>\n",
       "      <td>25.8</td>\n",
       "    </tr>\n",
       "    <tr>\n",
       "      <th>868</th>\n",
       "      <td>Vietnam</td>\n",
       "      <td>2010</td>\n",
       "      <td>1020.0</td>\n",
       "      <td>28.5</td>\n",
       "    </tr>\n",
       "    <tr>\n",
       "      <th>869</th>\n",
       "      <td>Yemen</td>\n",
       "      <td>2010</td>\n",
       "      <td>250.0</td>\n",
       "      <td>18.0</td>\n",
       "    </tr>\n",
       "    <tr>\n",
       "      <th>870</th>\n",
       "      <td>Zambia</td>\n",
       "      <td>2010</td>\n",
       "      <td>580.0</td>\n",
       "      <td>16.5</td>\n",
       "    </tr>\n",
       "    <tr>\n",
       "      <th>871</th>\n",
       "      <td>Zimbabwe</td>\n",
       "      <td>2010</td>\n",
       "      <td>547.0</td>\n",
       "      <td>18.6</td>\n",
       "    </tr>\n",
       "  </tbody>\n",
       "</table>\n",
       "<p>872 rows × 4 columns</p>\n",
       "</div>"
      ],
      "text/plain": [
       "                  Country  Year  Elec_usage  Median_Age\n",
       "0                 Albania  1975       739.0        20.2\n",
       "1                 Algeria  1975       195.0        16.5\n",
       "2                  Angola  1975       127.0        16.6\n",
       "3               Argentina  1975      1000.0        27.4\n",
       "4               Australia  1975      4780.0        28.1\n",
       "5                 Austria  1975      3730.0        33.9\n",
       "6                 Bahrain  1975      2630.0        19.3\n",
       "7              Bangladesh  1975        17.0        17.6\n",
       "8                 Belgium  1975      3890.0        34.3\n",
       "9                   Benin  1975        18.1        18.3\n",
       "10                Bolivia  1975       189.0        18.6\n",
       "11                 Brazil  1975       649.0        19.5\n",
       "12                 Brunei  1975      1480.0        19.6\n",
       "13               Bulgaria  1975      3040.0        33.7\n",
       "14               Cameroon  1975       175.0        18.4\n",
       "15                 Canada  1975     10400.0        27.5\n",
       "16                  Chile  1975       742.0        21.5\n",
       "17                  China  1975       199.0        20.4\n",
       "18               Colombia  1975       442.0        17.8\n",
       "19       Congo, Dem. Rep.  1975       167.0        17.8\n",
       "20            Congo, Rep.  1975        64.1        17.9\n",
       "21             Costa Rica  1975       730.0        19.3\n",
       "22          Cote d'Ivoire  1975       122.0        17.6\n",
       "23                   Cuba  1975       623.0        22.3\n",
       "24                 Cyprus  1975      1030.0        27.4\n",
       "25         Czech Republic  1975      4030.0        32.7\n",
       "26                Denmark  1975      3410.0        33.0\n",
       "27     Dominican Republic  1975       402.0        17.0\n",
       "28                Ecuador  1975       196.0        18.1\n",
       "29                  Egypt  1975       236.0        19.2\n",
       "..                    ...   ...         ...         ...\n",
       "842              Portugal  2010      4960.0        41.6\n",
       "843                 Qatar  2010     14800.0        31.8\n",
       "844               Romania  2010      2550.0        39.4\n",
       "845          Saudi Arabia  2010      7970.0        25.9\n",
       "846               Senegal  2010       199.0        18.1\n",
       "847             Singapore  2010      8680.0        37.3\n",
       "848       Slovak Republic  2010      5200.0        37.3\n",
       "849          South Africa  2010      4510.0        24.8\n",
       "850           South Korea  2010      9720.0        38.0\n",
       "851                 Spain  2010      5710.0        40.6\n",
       "852             Sri Lanka  2010       461.0        30.4\n",
       "853                 Sudan  2010       131.0        18.3\n",
       "854                Sweden  2010     14900.0        40.7\n",
       "855           Switzerland  2010      8170.0        41.6\n",
       "856                 Syria  2010      1850.0        21.5\n",
       "857              Tanzania  2010        93.0        17.2\n",
       "858              Thailand  2010      2310.0        35.5\n",
       "859                  Togo  2010       123.0        18.6\n",
       "860   Trinidad and Tobago  2010      6190.0        31.9\n",
       "861               Tunisia  2010      1360.0        29.2\n",
       "862                Turkey  2010      2490.0        28.3\n",
       "863  United Arab Emirates  2010     11000.0        31.9\n",
       "864        United Kingdom  2010      5700.0        39.6\n",
       "865         United States  2010     13400.0        36.9\n",
       "866               Uruguay  2010      2800.0        33.7\n",
       "867             Venezuela  2010      3130.0        25.8\n",
       "868               Vietnam  2010      1020.0        28.5\n",
       "869                 Yemen  2010       250.0        18.0\n",
       "870                Zambia  2010       580.0        16.5\n",
       "871              Zimbabwe  2010       547.0        18.6\n",
       "\n",
       "[872 rows x 4 columns]"
      ]
     },
     "execution_count": 202,
     "metadata": {},
     "output_type": "execute_result"
    }
   ],
   "source": [
    "data"
   ]
  },
  {
   "cell_type": "code",
   "execution_count": 263,
   "metadata": {},
   "outputs": [
    {
     "data": {
      "text/html": [
       "<div>\n",
       "<style scoped>\n",
       "    .dataframe tbody tr th:only-of-type {\n",
       "        vertical-align: middle;\n",
       "    }\n",
       "\n",
       "    .dataframe tbody tr th {\n",
       "        vertical-align: top;\n",
       "    }\n",
       "\n",
       "    .dataframe thead th {\n",
       "        text-align: right;\n",
       "    }\n",
       "</style>\n",
       "<table border=\"1\" class=\"dataframe\">\n",
       "  <thead>\n",
       "    <tr style=\"text-align: right;\">\n",
       "      <th></th>\n",
       "      <th>Country</th>\n",
       "      <th>Year</th>\n",
       "      <th>Elec_usage</th>\n",
       "      <th>Median_Age</th>\n",
       "      <th>ElecGroup</th>\n",
       "      <th>AgeGroup</th>\n",
       "      <th>AGE</th>\n",
       "    </tr>\n",
       "  </thead>\n",
       "  <tbody>\n",
       "    <tr>\n",
       "      <th>99</th>\n",
       "      <td>Turkey</td>\n",
       "      <td>1975</td>\n",
       "      <td>359.0</td>\n",
       "      <td>19.6</td>\n",
       "      <td>2.0</td>\n",
       "      <td>(18, 25]</td>\n",
       "      <td>0</td>\n",
       "    </tr>\n",
       "    <tr>\n",
       "      <th>208</th>\n",
       "      <td>Turkey</td>\n",
       "      <td>1980</td>\n",
       "      <td>496.0</td>\n",
       "      <td>20.0</td>\n",
       "      <td>2.0</td>\n",
       "      <td>(18, 25]</td>\n",
       "      <td>0</td>\n",
       "    </tr>\n",
       "    <tr>\n",
       "      <th>317</th>\n",
       "      <td>Turkey</td>\n",
       "      <td>1985</td>\n",
       "      <td>660.0</td>\n",
       "      <td>21.0</td>\n",
       "      <td>2.0</td>\n",
       "      <td>(18, 25]</td>\n",
       "      <td>0</td>\n",
       "    </tr>\n",
       "    <tr>\n",
       "      <th>426</th>\n",
       "      <td>Turkey</td>\n",
       "      <td>1990</td>\n",
       "      <td>930.0</td>\n",
       "      <td>22.1</td>\n",
       "      <td>2.0</td>\n",
       "      <td>(18, 25]</td>\n",
       "      <td>0</td>\n",
       "    </tr>\n",
       "    <tr>\n",
       "      <th>535</th>\n",
       "      <td>Turkey</td>\n",
       "      <td>1995</td>\n",
       "      <td>1230.0</td>\n",
       "      <td>23.5</td>\n",
       "      <td>3.0</td>\n",
       "      <td>(18, 25]</td>\n",
       "      <td>0</td>\n",
       "    </tr>\n",
       "    <tr>\n",
       "      <th>644</th>\n",
       "      <td>Turkey</td>\n",
       "      <td>2000</td>\n",
       "      <td>1650.0</td>\n",
       "      <td>24.9</td>\n",
       "      <td>3.0</td>\n",
       "      <td>(18, 25]</td>\n",
       "      <td>1</td>\n",
       "    </tr>\n",
       "    <tr>\n",
       "      <th>753</th>\n",
       "      <td>Turkey</td>\n",
       "      <td>2005</td>\n",
       "      <td>2010.0</td>\n",
       "      <td>26.6</td>\n",
       "      <td>3.0</td>\n",
       "      <td>(25, 32]</td>\n",
       "      <td>1</td>\n",
       "    </tr>\n",
       "    <tr>\n",
       "      <th>862</th>\n",
       "      <td>Turkey</td>\n",
       "      <td>2010</td>\n",
       "      <td>2490.0</td>\n",
       "      <td>28.3</td>\n",
       "      <td>3.0</td>\n",
       "      <td>(25, 32]</td>\n",
       "      <td>1</td>\n",
       "    </tr>\n",
       "  </tbody>\n",
       "</table>\n",
       "</div>"
      ],
      "text/plain": [
       "    Country  Year  Elec_usage  Median_Age  ElecGroup  AgeGroup  AGE\n",
       "99   Turkey  1975       359.0        19.6        2.0  (18, 25]    0\n",
       "208  Turkey  1980       496.0        20.0        2.0  (18, 25]    0\n",
       "317  Turkey  1985       660.0        21.0        2.0  (18, 25]    0\n",
       "426  Turkey  1990       930.0        22.1        2.0  (18, 25]    0\n",
       "535  Turkey  1995      1230.0        23.5        3.0  (18, 25]    0\n",
       "644  Turkey  2000      1650.0        24.9        3.0  (18, 25]    1\n",
       "753  Turkey  2005      2010.0        26.6        3.0  (25, 32]    1\n",
       "862  Turkey  2010      2490.0        28.3        3.0  (25, 32]    1"
      ]
     },
     "execution_count": 263,
     "metadata": {},
     "output_type": "execute_result"
    }
   ],
   "source": [
    "data[data[\"Country\"] == 'Turkey']"
   ]
  },
  {
   "cell_type": "code",
   "execution_count": 204,
   "metadata": {},
   "outputs": [
    {
     "name": "stdout",
     "output_type": "stream",
     "text": [
      "Elec. use per person ranges from 6.68 and to 51400.0\n"
     ]
    },
    {
     "data": {
      "text/plain": [
       "count      872.000000\n",
       "mean      3270.140115\n",
       "std       4805.859468\n",
       "min          6.680000\n",
       "25%        314.000000\n",
       "50%       1175.000000\n",
       "75%       4567.500000\n",
       "max      51400.000000\n",
       "Name: Elec_usage, dtype: float64"
      ]
     },
     "execution_count": 204,
     "metadata": {},
     "output_type": "execute_result"
    }
   ],
   "source": [
    "print ('Elec. use per person ranges from '+ str(data['Elec_usage'].min())+' and to '+ str(data['Elec_usage'].max()) )\n",
    "data['Elec_usage'].describe()"
   ]
  },
  {
   "cell_type": "code",
   "execution_count": 205,
   "metadata": {},
   "outputs": [
    {
     "name": "stdout",
     "output_type": "stream",
     "text": [
      "872\n",
      "872\n"
     ]
    }
   ],
   "source": [
    "# Elec. use per person column keeps continuous quantitative variables.\n",
    "# In order to create Elec. use per person groups, we need to generate partitions. \n",
    "# Below, we call the \"cut \" method. Note that the first cut is (7, 300]\n",
    "data['ElecGroup']= pd.cut(data.Elec_usage, [7,300,1000,5000,10000,20000,55000]) \n",
    "# no need to sort the data frame.\n",
    "\n",
    "print(len(data))\n",
    "print(len(data['ElecGroup']))"
   ]
  },
  {
   "cell_type": "code",
   "execution_count": 206,
   "metadata": {},
   "outputs": [
    {
     "data": {
      "text/plain": [
       "count              871\n",
       "unique               6\n",
       "top       (1000, 5000]\n",
       "freq               273\n",
       "Name: ElecGroup, dtype: object"
      ]
     },
     "execution_count": 206,
     "metadata": {},
     "output_type": "execute_result"
    }
   ],
   "source": [
    "data['ElecGroup']= data['ElecGroup'].astype('category')\n",
    "data['ElecGroup'].describe()"
   ]
  },
  {
   "cell_type": "code",
   "execution_count": 207,
   "metadata": {},
   "outputs": [
    {
     "name": "stdout",
     "output_type": "stream",
     "text": [
      "(7, 300]          0.246843\n",
      "(300, 1000]       0.219288\n",
      "(1000, 5000]      0.313433\n",
      "(5000, 10000]     0.138921\n",
      "(10000, 20000]    0.068886\n",
      "(20000, 55000]    0.012629\n",
      "Name: ElecGroup, dtype: float64\n"
     ]
    }
   ],
   "source": [
    "ElecGroup= data['ElecGroup'].value_counts(sort= False, normalize= True) \n",
    "# value_counts() should make more sense now\n",
    "print(ElecGroup)"
   ]
  },
  {
   "cell_type": "code",
   "execution_count": 208,
   "metadata": {},
   "outputs": [
    {
     "data": {
      "image/png": "[encoded data removed]",
      "text/plain": [
       "<Figure size 432x288 with 1 Axes>"
      ]
     },
     "metadata": {
      "needs_background": "light"
     },
     "output_type": "display_data"
    }
   ],
   "source": [
    "seaborn.countplot(x= 'ElecGroup', data= data)\n",
    "plt.xlabel('ElecGroup (per capita) categories)')\n",
    "plt.title('Counts of rows for each ElecGroup')\n",
    "plt.show()"
   ]
  },
  {
   "cell_type": "code",
   "execution_count": 209,
   "metadata": {},
   "outputs": [
    {
     "data": {
      "text/plain": [
       "Text(0.5, 1.0, 'Counts of rows for each ElecGroup')"
      ]
     },
     "execution_count": 209,
     "metadata": {},
     "output_type": "execute_result"
    },
    {
     "data": {
      "image/png": "[encoded data removed]",
      "text/plain": [
       "<Figure size 432x288 with 1 Axes>"
      ]
     },
     "metadata": {
      "needs_background": "light"
     },
     "output_type": "display_data"
    }
   ],
   "source": [
    "seaborn.distplot(data['Elec_usage'].dropna(), kde= False)\n",
    "plt.xlabel('ElecGroup (per person) quantitative values)')\n",
    "plt.title('Counts of rows for each ElecGroup')"
   ]
  },
  {
   "cell_type": "code",
   "execution_count": 210,
   "metadata": {},
   "outputs": [
    {
     "name": "stdout",
     "output_type": "stream",
     "text": [
      "Median Age ranges from 14.3 and to 44.7\n"
     ]
    },
    {
     "data": {
      "text/plain": [
       "count    872.000000\n",
       "mean      25.344839\n",
       "std        7.639786\n",
       "min       14.300000\n",
       "25%       18.500000\n",
       "50%       23.250000\n",
       "75%       31.800000\n",
       "max       44.700000\n",
       "Name: Median_Age, dtype: float64"
      ]
     },
     "execution_count": 210,
     "metadata": {},
     "output_type": "execute_result"
    }
   ],
   "source": [
    "print ('Median Age ranges from '+ str(data['Median_Age'].min())+' and to '+ str(data['Median_Age'].max()) )\n",
    "data['Median_Age'].describe()"
   ]
  },
  {
   "cell_type": "code",
   "execution_count": 211,
   "metadata": {},
   "outputs": [],
   "source": [
    "data['AgeGroup']= pd.cut(data.Median_Age, [8,18,25,32,40,50]) "
   ]
  },
  {
   "cell_type": "code",
   "execution_count": 212,
   "metadata": {},
   "outputs": [
    {
     "data": {
      "text/plain": [
       "count          872\n",
       "unique           5\n",
       "top       (18, 25]\n",
       "freq           303\n",
       "Name: AgeGroup, dtype: object"
      ]
     },
     "execution_count": 212,
     "metadata": {},
     "output_type": "execute_result"
    }
   ],
   "source": [
    "data['AgeGroup']= data['AgeGroup'].astype('category')\n",
    "data['AgeGroup'].describe()"
   ]
  },
  {
   "cell_type": "code",
   "execution_count": 213,
   "metadata": {},
   "outputs": [
    {
     "name": "stdout",
     "output_type": "stream",
     "text": [
      "(8, 18]     0.213303\n",
      "(18, 25]    0.347477\n",
      "(25, 32]    0.194954\n",
      "(32, 40]    0.213303\n",
      "(40, 50]    0.030963\n",
      "Name: AgeGroup, dtype: float64\n"
     ]
    }
   ],
   "source": [
    "MG= data['AgeGroup'].value_counts(sort= False, normalize= True)\n",
    "print(MG)"
   ]
  },
  {
   "cell_type": "code",
   "execution_count": 214,
   "metadata": {},
   "outputs": [
    {
     "data": {
      "image/png": "[encoded data removed]",
      "text/plain": [
       "<Figure size 432x288 with 1 Axes>"
      ]
     },
     "metadata": {
      "needs_background": "light"
     },
     "output_type": "display_data"
    }
   ],
   "source": [
    "seaborn.countplot(x= 'AgeGroup', data= data)\n",
    "plt.xlabel('Median Age group')\n",
    "plt.title('Counts of rows for each Rate')\n",
    "plt.show()"
   ]
  },
  {
   "cell_type": "code",
   "execution_count": 215,
   "metadata": {},
   "outputs": [
    {
     "data": {
      "text/plain": [
       "<matplotlib.axes._subplots.AxesSubplot at 0x2645cf5f3c8>"
      ]
     },
     "execution_count": 215,
     "metadata": {},
     "output_type": "execute_result"
    },
    {
     "data": {
      "image/png": "[encoded data removed]",
      "text/plain": [
       "<Figure size 432x288 with 1 Axes>"
      ]
     },
     "metadata": {
      "needs_background": "light"
     },
     "output_type": "display_data"
    }
   ],
   "source": [
    "seaborn.regplot(x= \"Median_Age\", y= \"Elec_usage\", fit_reg= False, data= data)"
   ]
  },
  {
   "cell_type": "code",
   "execution_count": 216,
   "metadata": {},
   "outputs": [
    {
     "name": "stdout",
     "output_type": "stream",
     "text": [
      "(8, 18]     0.213303\n",
      "(18, 25]    0.347477\n",
      "(25, 32]    0.194954\n",
      "(32, 40]    0.213303\n",
      "(40, 50]    0.030963\n",
      "Name: AgeGroup, dtype: float64\n"
     ]
    }
   ],
   "source": [
    "MG= data['AgeGroup'].value_counts(sort= False, normalize= True)\n",
    "print(MG)"
   ]
  },
  {
   "cell_type": "code",
   "execution_count": 217,
   "metadata": {},
   "outputs": [],
   "source": [
    "def AGE (row):\n",
    "    if row['Median_Age'] < 24 :\n",
    "        return 0\n",
    "    else:\n",
    "        return 1"
   ]
  },
  {
   "cell_type": "code",
   "execution_count": 218,
   "metadata": {},
   "outputs": [
    {
     "data": {
      "text/plain": [
       "0    455\n",
       "1    417\n",
       "Name: AGE, dtype: int64"
      ]
     },
     "execution_count": 218,
     "metadata": {},
     "output_type": "execute_result"
    }
   ],
   "source": [
    "data['AGE']= data.apply(lambda row : AGE(row), axis= 1)\n",
    "# axis=1, tells python to apply this function to each row \n",
    "# Arbitrary functions can be applied along the axes of a DataFrame using the apply() method\n",
    "data['AGE'].value_counts()"
   ]
  },
  {
   "cell_type": "code",
   "execution_count": 220,
   "metadata": {},
   "outputs": [
    {
     "data": {
      "image/png": "[encoded data removed]",
      "text/plain": [
       "<Figure size 360x360 with 1 Axes>"
      ]
     },
     "metadata": {
      "needs_background": "light"
     },
     "output_type": "display_data"
    }
   ],
   "source": [
    "seaborn.factorplot(x= 'ElecGroup', y= 'AGE', data= data, kind= \"bar\", ci=None)\n",
    "plt.xlabel('ElecGroup per person')\n",
    "plt.ylabel('median age over 24')\n",
    "plt.show()\n",
    "# A categorical to categorical bar chart\n",
    "# note that a bivariate graph displays a mean on the y-axis, \n",
    "# so categorical response variables should not have other than two levels, they should be coded as 1 and 0.\n",
    "# Important: Below, the response variable gives us the proportion of the positive observations."
   ]
  },
  {
   "cell_type": "code",
   "execution_count": 221,
   "metadata": {},
   "outputs": [],
   "source": [
    "#7,300,1000,5000,10000,20000,55000\n",
    "def ElecRangeGroup (row):\n",
    "   if row['Elec_usage'] > 7.0 and row['Elec_usage']<= 300.0 :\n",
    "      return 1\n",
    "   if row['Elec_usage'] > 300.0 and row['Elec_usage']<= 1000.0 :\n",
    "      return 2\n",
    "   if row['Elec_usage'] > 1000.0 and row['Elec_usage']<= 5000.0 :\n",
    "      return 3\n",
    "   if row['Elec_usage'] > 5000.0 and row['Elec_usage']<= 10000.0 :\n",
    "      return 4\n",
    "   if row['Elec_usage'] > 10000.0 and row['Elec_usage']<= 20000.0 :\n",
    "      return 5\n",
    "   if row['Elec_usage'] > 20000.0 and row['Elec_usage']<= 55000.0 :\n",
    "      return 6"
   ]
  },
  {
   "cell_type": "code",
   "execution_count": 222,
   "metadata": {},
   "outputs": [],
   "source": [
    "data['ElecGroup'] = data.apply (lambda row: ElecRangeGroup (row),axis=1)"
   ]
  },
  {
   "cell_type": "code",
   "execution_count": 224,
   "metadata": {},
   "outputs": [
    {
     "data": {
      "image/png": "[encoded data removed]",
      "text/plain": [
       "<Figure size 360x360 with 1 Axes>"
      ]
     },
     "metadata": {
      "needs_background": "light"
     },
     "output_type": "display_data"
    }
   ],
   "source": [
    "seaborn.factorplot(x= 'ElecGroup', y= 'AGE', data= data, kind= \"bar\", ci=None)\n",
    "plt.xlabel('Elec. use per person catagory')\n",
    "plt.ylabel('Median age over 24')\n",
    "plt.show()"
   ]
  },
  {
   "cell_type": "markdown",
   "metadata": {},
   "source": [
    "# PART II: Analysis"
   ]
  },
  {
   "cell_type": "code",
   "execution_count": 226,
   "metadata": {},
   "outputs": [],
   "source": [
    "import statsmodels.formula.api as smf\n",
    "import statsmodels.stats.multicomp as multi "
   ]
  },
  {
   "cell_type": "code",
   "execution_count": 232,
   "metadata": {
    "scrolled": true
   },
   "outputs": [
    {
     "name": "stdout",
     "output_type": "stream",
     "text": [
      "     ElecGroup  Median_Age\n",
      "0          2.0        20.2\n",
      "1          1.0        16.5\n",
      "2          1.0        16.6\n",
      "3          2.0        27.4\n",
      "4          3.0        28.1\n",
      "5          3.0        33.9\n",
      "6          3.0        19.3\n",
      "7          1.0        17.6\n",
      "8          3.0        34.3\n",
      "9          1.0        18.3\n",
      "10         1.0        18.6\n",
      "11         2.0        19.5\n",
      "12         3.0        19.6\n",
      "13         3.0        33.7\n",
      "14         1.0        18.4\n",
      "15         5.0        27.5\n",
      "16         2.0        21.5\n",
      "17         1.0        20.4\n",
      "18         2.0        17.8\n",
      "19         1.0        17.8\n",
      "20         1.0        17.9\n",
      "21         2.0        19.3\n",
      "22         1.0        17.6\n",
      "23         2.0        22.3\n",
      "24         3.0        27.4\n",
      "25         3.0        32.7\n",
      "26         3.0        33.0\n",
      "27         2.0        17.0\n",
      "28         1.0        18.1\n",
      "29         1.0        19.2\n",
      "..         ...         ...\n",
      "842        3.0        41.6\n",
      "843        5.0        31.8\n",
      "844        3.0        39.4\n",
      "845        4.0        25.9\n",
      "846        1.0        18.1\n",
      "847        4.0        37.3\n",
      "848        4.0        37.3\n",
      "849        3.0        24.8\n",
      "850        4.0        38.0\n",
      "851        4.0        40.6\n",
      "852        2.0        30.4\n",
      "853        1.0        18.3\n",
      "854        5.0        40.7\n",
      "855        4.0        41.6\n",
      "856        3.0        21.5\n",
      "857        1.0        17.2\n",
      "858        3.0        35.5\n",
      "859        1.0        18.6\n",
      "860        4.0        31.9\n",
      "861        3.0        29.2\n",
      "862        3.0        28.3\n",
      "863        5.0        31.9\n",
      "864        4.0        39.6\n",
      "865        5.0        36.9\n",
      "866        3.0        33.7\n",
      "867        3.0        25.8\n",
      "868        3.0        28.5\n",
      "869        1.0        18.0\n",
      "870        2.0        16.5\n",
      "871        2.0        18.6\n",
      "\n",
      "[872 rows x 2 columns]\n"
     ]
    }
   ],
   "source": [
    "data3= data[['ElecGroup', 'Median_Age']]\n",
    "print(data3)"
   ]
  },
  {
   "cell_type": "markdown",
   "metadata": {},
   "source": [
    "## A) ANOVA \n",
    "### Please note that \"GDPCat\" is categorical, and  \"Under_five_mortality\" is numeric"
   ]
  },
  {
   "cell_type": "code",
   "execution_count": 233,
   "metadata": {},
   "outputs": [],
   "source": [
    "model1= smf.ols(formula='Median_Age ~ C(ElecGroup)', data=data3)\n",
    "# statsmodels.formula.api as smf\n",
    "# ols: ordinary least squares regression\n",
    "# first response var, and then explanatory variable. Note that C stands for the Categorical variable."
   ]
  },
  {
   "cell_type": "code",
   "execution_count": 234,
   "metadata": {},
   "outputs": [],
   "source": [
    "results= model1.fit()"
   ]
  },
  {
   "cell_type": "code",
   "execution_count": 235,
   "metadata": {},
   "outputs": [
    {
     "name": "stdout",
     "output_type": "stream",
     "text": [
      "                            OLS Regression Results                            \n",
      "==============================================================================\n",
      "Dep. Variable:             Median_Age   R-squared:                       0.636\n",
      "Model:                            OLS   Adj. R-squared:                  0.634\n",
      "Method:                 Least Squares   F-statistic:                     302.0\n",
      "Date:                Mon, 01 Apr 2019   Prob (F-statistic):          6.38e-187\n",
      "Time:                        01:14:26   Log-Likelihood:                -2566.7\n",
      "No. Observations:                 871   AIC:                             5145.\n",
      "Df Residuals:                     865   BIC:                             5174.\n",
      "Df Model:                           5                                         \n",
      "Covariance Type:            nonrobust                                         \n",
      "=======================================================================================\n",
      "                          coef    std err          t      P>|t|      [0.025      0.975]\n",
      "---------------------------------------------------------------------------------------\n",
      "Intercept              18.1972      0.315     57.695      0.000      17.578      18.816\n",
      "C(ElecGroup)[T.2.0]     2.5452      0.460      5.535      0.000       1.643       3.448\n",
      "C(ElecGroup)[T.3.0]     9.7108      0.422     23.028      0.000       8.883      10.539\n",
      "C(ElecGroup)[T.4.0]    16.4268      0.526     31.254      0.000      15.395      17.458\n",
      "C(ElecGroup)[T.5.0]    15.5161      0.675     22.979      0.000      14.191      16.841\n",
      "C(ElecGroup)[T.6.0]    15.9755      1.430     11.175      0.000      13.170      18.781\n",
      "==============================================================================\n",
      "Omnibus:                        2.739   Durbin-Watson:                   2.198\n",
      "Prob(Omnibus):                  0.254   Jarque-Bera (JB):                2.859\n",
      "Skew:                           0.047   Prob(JB):                        0.239\n",
      "Kurtosis:                       3.264   Cond. No.                         10.0\n",
      "==============================================================================\n",
      "\n",
      "Warnings:\n",
      "[1] Standard Errors assume that the covariance matrix of the errors is correctly specified.\n"
     ]
    }
   ],
   "source": [
    "print(results.summary())"
   ]
  },
  {
   "cell_type": "markdown",
   "metadata": {},
   "source": [
    "### POST-HOC TESTS ARE NEEDED: Which categories are different than others?"
   ]
  },
  {
   "cell_type": "code",
   "execution_count": 236,
   "metadata": {},
   "outputs": [
    {
     "name": "stdout",
     "output_type": "stream",
     "text": [
      "Multiple Comparison of Means - Tukey HSD,FWER=0.05\n",
      "==============================================\n",
      "group1 group2 meandiff  lower    upper  reject\n",
      "----------------------------------------------\n",
      " 1.0    2.0    2.5452   1.1862   3.9042  True \n",
      " 1.0    3.0    9.7108   8.4646  10.9571  True \n",
      " 1.0    4.0   16.4268  14.8735   17.98   True \n",
      " 1.0    5.0   15.5161  13.5206  17.5116  True \n",
      " 1.0    6.0   15.9755  11.7506  20.2004  True \n",
      " 1.0    nan    1.2028  -12.4962 14.9018 False \n",
      " 2.0    3.0    7.1657   5.8764   8.4549  True \n",
      " 2.0    4.0   13.8816  12.2936  15.4696  True \n",
      " 2.0    5.0   12.9709  10.9483  14.9936  True \n",
      " 2.0    6.0   13.4303   9.1925  17.6682  True \n",
      " 2.0    nan   -1.3424  -15.0454 12.3606 False \n",
      " 3.0    4.0    6.7159   5.2233   8.2085  True \n",
      " 3.0    5.0    5.8053   3.8566   7.754   True \n",
      " 3.0    6.0    6.2647   2.0616  10.4677  True \n",
      " 3.0    nan   -8.5081  -22.2003  5.1842 False \n",
      " 4.0    5.0   -0.9106  -3.0686   1.2474 False \n",
      " 4.0    6.0   -0.4512  -4.7553   3.8528 False \n",
      " 4.0    nan   -15.224  -28.9476 -1.5004  True \n",
      " 5.0    6.0    0.4594  -4.0233   4.9421 False \n",
      " 5.0    nan   -14.3133 -28.094  -0.5327  True \n",
      " 6.0    nan   -14.7727 -29.0477 -0.4978  True \n",
      "----------------------------------------------\n"
     ]
    }
   ],
   "source": [
    "mc1 = multi.MultiComparison(data3['Median_Age'], data3['ElecGroup'])\n",
    "res1 = mc1.tukeyhsd()\n",
    "print(res1.summary())"
   ]
  },
  {
   "cell_type": "markdown",
   "metadata": {},
   "source": [
    "### B) CHI SQUARE TEST OF INDEPENDENCE for CATEGORICAL TO CATEGORICAL VARIABLES"
   ]
  },
  {
   "cell_type": "code",
   "execution_count": 238,
   "metadata": {},
   "outputs": [
    {
     "name": "stdout",
     "output_type": "stream",
     "text": [
      "     AGE  ElecGroup\n",
      "0      0        2.0\n",
      "1      0        1.0\n",
      "2      0        1.0\n",
      "3      1        2.0\n",
      "4      1        3.0\n",
      "5      1        3.0\n",
      "6      0        3.0\n",
      "7      0        1.0\n",
      "8      1        3.0\n",
      "9      0        1.0\n",
      "10     0        1.0\n",
      "11     0        2.0\n",
      "12     0        3.0\n",
      "13     1        3.0\n",
      "14     0        1.0\n",
      "15     1        5.0\n",
      "16     0        2.0\n",
      "17     0        1.0\n",
      "18     0        2.0\n",
      "19     0        1.0\n",
      "20     0        1.0\n",
      "21     0        2.0\n",
      "22     0        1.0\n",
      "23     0        2.0\n",
      "24     1        3.0\n",
      "25     1        3.0\n",
      "26     1        3.0\n",
      "27     0        2.0\n",
      "28     0        1.0\n",
      "29     0        1.0\n",
      "..   ...        ...\n",
      "842    1        3.0\n",
      "843    1        5.0\n",
      "844    1        3.0\n",
      "845    1        4.0\n",
      "846    0        1.0\n",
      "847    1        4.0\n",
      "848    1        4.0\n",
      "849    1        3.0\n",
      "850    1        4.0\n",
      "851    1        4.0\n",
      "852    1        2.0\n",
      "853    0        1.0\n",
      "854    1        5.0\n",
      "855    1        4.0\n",
      "856    0        3.0\n",
      "857    0        1.0\n",
      "858    1        3.0\n",
      "859    0        1.0\n",
      "860    1        4.0\n",
      "861    1        3.0\n",
      "862    1        3.0\n",
      "863    1        5.0\n",
      "864    1        4.0\n",
      "865    1        5.0\n",
      "866    1        3.0\n",
      "867    1        3.0\n",
      "868    1        3.0\n",
      "869    0        1.0\n",
      "870    0        2.0\n",
      "871    0        2.0\n",
      "\n",
      "[872 rows x 2 columns]\n"
     ]
    }
   ],
   "source": [
    "data4= data[['AGE', 'ElecGroup']]\n",
    "print(data4)"
   ]
  },
  {
   "cell_type": "code",
   "execution_count": 239,
   "metadata": {},
   "outputs": [
    {
     "name": "stdout",
     "output_type": "stream",
     "text": [
      "ElecGroup  1.0  2.0  3.0  4.0  5.0  6.0\n",
      "AGE                                    \n",
      "0          209  158   81    6    0    0\n",
      "1            6   33  192  115   60   11\n"
     ]
    }
   ],
   "source": [
    "# contingency table of observed counts\n",
    "ct1=pd.crosstab(data4['AGE'], data4['ElecGroup'])\n",
    "print (ct1) # ct1 is a two-dimentional array"
   ]
  },
  {
   "cell_type": "code",
   "execution_count": 240,
   "metadata": {},
   "outputs": [
    {
     "name": "stdout",
     "output_type": "stream",
     "text": [
      "ElecGroup       1.0       2.0       3.0       4.0  5.0  6.0\n",
      "AGE                                                        \n",
      "0          0.972093  0.827225  0.296703  0.049587  0.0  0.0\n",
      "1          0.027907  0.172775  0.703297  0.950413  1.0  1.0\n"
     ]
    }
   ],
   "source": [
    "# column percentages\n",
    "colsum=ct1.sum(axis=0) # axis=0 to sum all columns\n",
    "colpct=ct1/colsum\n",
    "print(colpct)"
   ]
  },
  {
   "cell_type": "markdown",
   "metadata": {},
   "source": [
    "\n",
    "#### We are trying to find out if the mortality rate among different GDP categories is the same or not. Therefore column percentages make sense. (Explanatory variables on each column)"
   ]
  },
  {
   "cell_type": "code",
   "execution_count": 241,
   "metadata": {},
   "outputs": [],
   "source": [
    "import scipy.stats"
   ]
  },
  {
   "cell_type": "code",
   "execution_count": 242,
   "metadata": {},
   "outputs": [
    {
     "name": "stdout",
     "output_type": "stream",
     "text": [
      "chi-square value, p value, expected counts\n",
      "(487.1052465055917, 4.84579097311198e-103, 5, array([[112.06659013,  99.55683123, 142.29850746,  63.07003444,\n",
      "         31.27439724,   5.73363949],\n",
      "       [102.93340987,  91.44316877, 130.70149254,  57.92996556,\n",
      "         28.72560276,   5.26636051]]))\n"
     ]
    }
   ],
   "source": [
    "# chi-square\n",
    "print ('chi-square value, p value, expected counts')\n",
    "cs1= scipy.stats.chi2_contingency(ct1)\n",
    "print (cs1)"
   ]
  },
  {
   "cell_type": "markdown",
   "metadata": {},
   "source": [
    "### Large X2 statistics and a small p-value states that there is a strong association between the explanatory variables and the response variables as opposed to the null hypothesis.\n"
   ]
  },
  {
   "cell_type": "code",
   "execution_count": 243,
   "metadata": {},
   "outputs": [
    {
     "data": {
      "image/png": "[encoded data removed]",
      "text/plain": [
       "<Figure size 360x360 with 1 Axes>"
      ]
     },
     "metadata": {
      "needs_background": "light"
     },
     "output_type": "display_data"
    }
   ],
   "source": [
    "seaborn.factorplot(x= 'ElecGroup', y= 'AGE', data= data4, kind= \"bar\", ci=None)\n",
    "plt.xlabel('elec. usage per person category: 1 the most poor to 6 the richest')\n",
    "plt.ylabel('Median age levels')\n",
    "plt.show()\n",
    "# note that the y values are equal to the column percentages (colpct) for Mortal 1"
   ]
  },
  {
   "cell_type": "markdown",
   "metadata": {},
   "source": [
    "### POST-HOC TESTS ARE NEEDED:  Which GDP Categories are different than the others?\n",
    "### chi square post hoc test: Apply chi square for each pair (all combinations of them); test with adjusted p value (bonferroni adjustment p-value: p-value / number_of_comparions)\n",
    "Here, we have 6 groups and there are 15 pairs; so the adjusted p-value is 0.05/15= 0,0033"
   ]
  },
  {
   "cell_type": "code",
   "execution_count": 245,
   "metadata": {},
   "outputs": [
    {
     "name": "stdout",
     "output_type": "stream",
     "text": [
      "Elec_1v2  1.0  2.0\n",
      "AGE               \n",
      "0         209  158\n",
      "1           6   33\n",
      "Elec_1v2       1.0       2.0\n",
      "AGE                         \n",
      "0         0.972093  0.827225\n",
      "1         0.027907  0.172775\n",
      "chi-square value, p value, expected counts\n",
      "(22.806297143283068, 1.7917765380037851e-06, 1, array([[194.34729064, 172.65270936],\n",
      "       [ 20.65270936,  18.34729064]]))\n"
     ]
    }
   ],
   "source": [
    "# We need to run chi-square tests for each of the comparisons\n",
    "recode_1v2 = {1: 1, 2: 2} # this is required because we are going to use only these two columns\n",
    "data4['Elec_1v2']= data4['ElecGroup'].map(recode_1v2)\n",
    "\n",
    "# contingency table of observed counts\n",
    "table_1v2=pd.crosstab(data4['AGE'], data4['Elec_1v2'])\n",
    "print (table_1v2)\n",
    "\n",
    "# column percentages\n",
    "colsum=table_1v2.sum(axis=0)\n",
    "colpct=table_1v2/colsum\n",
    "print(colpct)\n",
    "\n",
    "print ('chi-square value, p value, expected counts')\n",
    "cs_1v2= scipy.stats.chi2_contingency(table_1v2)\n",
    "print (cs_1v2)"
   ]
  },
  {
   "cell_type": "markdown",
   "metadata": {},
   "source": [
    "#### Now, we need to run the above test for each of the remaining paired comparisons!"
   ]
  },
  {
   "cell_type": "code",
   "execution_count": 246,
   "metadata": {},
   "outputs": [
    {
     "name": "stdout",
     "output_type": "stream",
     "text": [
      "Elec_1v3  1.0  3.0\n",
      "AGE               \n",
      "0         209   81\n",
      "1           6  192\n",
      "Elec_1v3       1.0       3.0\n",
      "AGE                         \n",
      "0         0.972093  0.296703\n",
      "1         0.027907  0.703297\n",
      "chi-square value, p value, expected counts\n",
      "(224.7521622551614, 8.315050688248716e-51, 1, array([[127.76639344, 162.23360656],\n",
      "       [ 87.23360656, 110.76639344]]))\n"
     ]
    }
   ],
   "source": [
    "recode_1v3 = {1: 1, 3: 3}\n",
    "data4['Elec_1v3']= data4['ElecGroup'].map(recode_1v3)\n",
    "\n",
    "# contingency table of observed counts\n",
    "table_1v3=pd.crosstab(data4['AGE'], data4['Elec_1v3'])\n",
    "print (table_1v3)\n",
    "\n",
    "# column percentages\n",
    "colsum=table_1v3.sum(axis=0)\n",
    "colpct=table_1v3/colsum\n",
    "print(colpct)\n",
    "\n",
    "print ('chi-square value, p value, expected counts')\n",
    "cs_1v3= scipy.stats.chi2_contingency(table_1v3)\n",
    "print (cs_1v3)"
   ]
  },
  {
   "cell_type": "code",
   "execution_count": 247,
   "metadata": {},
   "outputs": [
    {
     "name": "stdout",
     "output_type": "stream",
     "text": [
      "Elec_1v4  1.0  4.0\n",
      "AGE               \n",
      "0         209    6\n",
      "1           6  115\n",
      "Elec_1v4       1.0       4.0\n",
      "AGE                         \n",
      "0         0.972093  0.049587\n",
      "1         0.027907  0.950413\n",
      "chi-square value, p value, expected counts\n",
      "(281.95263018507967, 2.818963008671329e-63, 1, array([[137.57440476,  77.42559524],\n",
      "       [ 77.42559524,  43.57440476]]))\n"
     ]
    }
   ],
   "source": [
    "recode_1v4 = {1: 1, 4: 4}\n",
    "data4['Elec_1v4']= data4['ElecGroup'].map(recode_1v4)\n",
    "\n",
    "# contingency table of observed counts\n",
    "table_1v4=pd.crosstab(data4['AGE'], data4['Elec_1v4'])\n",
    "print (table_1v4)\n",
    "\n",
    "# column percentages\n",
    "colsum=table_1v4.sum(axis=0)\n",
    "colpct=table_1v4/colsum\n",
    "print(colpct)\n",
    "\n",
    "print ('chi-square value, p value, expected counts')\n",
    "cs_1v4= scipy.stats.chi2_contingency(table_1v4)\n",
    "print (cs_1v4)"
   ]
  },
  {
   "cell_type": "code",
   "execution_count": 248,
   "metadata": {},
   "outputs": [
    {
     "name": "stdout",
     "output_type": "stream",
     "text": [
      "Elec_1v6  1.0  6.0\n",
      "AGE               \n",
      "0         209    0\n",
      "1           6   11\n",
      "Elec_1v6       1.0  6.0\n",
      "AGE                    \n",
      "0         0.972093  0.0\n",
      "1         0.027907  1.0\n",
      "chi-square value, p value, expected counts\n",
      "(128.52345794787362, 8.622214054991668e-30, 1, array([[198.82743363,  10.17256637],\n",
      "       [ 16.17256637,   0.82743363]]))\n"
     ]
    }
   ],
   "source": [
    "recode_1v6 = {1: 1, 6: 6}\n",
    "data4['Elec_1v6']= data4['ElecGroup'].map(recode_1v6)\n",
    "\n",
    "# contingency table of observed counts\n",
    "table_1v6=pd.crosstab(data4['AGE'], data4['Elec_1v6'])\n",
    "print (table_1v6)\n",
    "\n",
    "# column percentages\n",
    "colsum=table_1v6.sum(axis=0)\n",
    "colpct=table_1v6/colsum\n",
    "print(colpct)\n",
    "\n",
    "print ('chi-square value, p value, expected counts')\n",
    "cs_1v6= scipy.stats.chi2_contingency(table_1v6)\n",
    "print (cs_1v6)"
   ]
  },
  {
   "cell_type": "code",
   "execution_count": 249,
   "metadata": {},
   "outputs": [
    {
     "name": "stdout",
     "output_type": "stream",
     "text": [
      "Elec_2v3  2.0  3.0\n",
      "AGE               \n",
      "0         158   81\n",
      "1          33  192\n",
      "Elec_2v3       2.0       3.0\n",
      "AGE                         \n",
      "0         0.827225  0.296703\n",
      "1         0.172775  0.703297\n",
      "chi-square value, p value, expected counts\n",
      "(124.51590444127238, 6.495642021769712e-29, 1, array([[ 98.38146552, 140.61853448],\n",
      "       [ 92.61853448, 132.38146552]]))\n"
     ]
    }
   ],
   "source": [
    "recode_2v3 = {2: 2, 3: 3}\n",
    "data4['Elec_2v3']= data4['ElecGroup'].map(recode_2v3)\n",
    "\n",
    "# contingency table of observed counts\n",
    "table_2v3=pd.crosstab(data4['AGE'], data4['Elec_2v3'])\n",
    "print (table_2v3)\n",
    "\n",
    "# column percentages\n",
    "colsum=table_2v3.sum(axis=0)\n",
    "colpct=table_2v3/colsum\n",
    "print(colpct)\n",
    "\n",
    "print ('chi-square value, p value, expected counts')\n",
    "cs_2v3= scipy.stats.chi2_contingency(table_2v3)\n",
    "print (cs_2v3)"
   ]
  },
  {
   "cell_type": "code",
   "execution_count": 250,
   "metadata": {},
   "outputs": [
    {
     "name": "stdout",
     "output_type": "stream",
     "text": [
      "Elec_2v4  2.0  4.0\n",
      "AGE               \n",
      "0         158    6\n",
      "1          33  115\n",
      "Elec_2v4       2.0       4.0\n",
      "AGE                         \n",
      "0         0.827225  0.049587\n",
      "1         0.172775  0.950413\n",
      "chi-square value, p value, expected counts\n",
      "(176.54308080172652, 2.755787423749102e-40, 1, array([[100.3974359,  63.6025641],\n",
      "       [ 90.6025641,  57.3974359]]))\n"
     ]
    }
   ],
   "source": [
    "recode_2v4 = {2: 2, 4: 4}\n",
    "data4['Elec_2v4']= data4['ElecGroup'].map(recode_2v4)\n",
    "\n",
    "# contingency table of observed counts\n",
    "table_2v4=pd.crosstab(data4['AGE'], data4['Elec_2v4'])\n",
    "print (table_2v4)\n",
    "\n",
    "# column percentages\n",
    "colsum=table_2v4.sum(axis=0)\n",
    "colpct=table_2v4/colsum\n",
    "print(colpct)\n",
    "\n",
    "print ('chi-square value, p value, expected counts')\n",
    "cs_2v4= scipy.stats.chi2_contingency(table_2v4)\n",
    "print (cs_2v4)"
   ]
  },
  {
   "cell_type": "code",
   "execution_count": 251,
   "metadata": {},
   "outputs": [
    {
     "name": "stdout",
     "output_type": "stream",
     "text": [
      "Elec_2v5  2.0  5.0\n",
      "AGE               \n",
      "0         158    0\n",
      "1          33   60\n",
      "Elec_2v5       2.0  5.0\n",
      "AGE                    \n",
      "0         0.827225  0.0\n",
      "1         0.172775  1.0\n",
      "chi-square value, p value, expected counts\n",
      "(130.43382402256765, 3.293304194760401e-30, 1, array([[120.2310757,  37.7689243],\n",
      "       [ 70.7689243,  22.2310757]]))\n"
     ]
    }
   ],
   "source": [
    "recode_2v5 = {2: 2, 5: 5}\n",
    "data4['Elec_2v5']= data4['ElecGroup'].map(recode_2v5)\n",
    "\n",
    "# contingency table of observed counts\n",
    "table_2v5=pd.crosstab(data4['AGE'], data4['Elec_2v5'])\n",
    "print (table_2v5)\n",
    "\n",
    "# column percentages\n",
    "colsum=table_2v5.sum(axis=0)\n",
    "colpct=table_2v5/colsum\n",
    "print(colpct)\n",
    "\n",
    "print ('chi-square value, p value, expected counts')\n",
    "cs_2v5= scipy.stats.chi2_contingency(table_2v5)\n",
    "print (cs_2v5)"
   ]
  },
  {
   "cell_type": "code",
   "execution_count": 252,
   "metadata": {},
   "outputs": [
    {
     "name": "stdout",
     "output_type": "stream",
     "text": [
      "Elec_2v6  2.0  6.0\n",
      "AGE               \n",
      "0         158    0\n",
      "1          33   11\n",
      "Elec_2v6       2.0  6.0\n",
      "AGE                    \n",
      "0         0.827225  0.0\n",
      "1         0.172775  1.0\n",
      "chi-square value, p value, expected counts\n",
      "(37.06063979068546, 1.1451202748956859e-09, 1, array([[149.3960396,   8.6039604],\n",
      "       [ 41.6039604,   2.3960396]]))\n"
     ]
    }
   ],
   "source": [
    "recode_2v6 = {2: 2, 6: 6}\n",
    "data4['Elec_2v6']= data4['ElecGroup'].map(recode_2v6)\n",
    "\n",
    "# contingency table of observed counts\n",
    "table_2v6=pd.crosstab(data4['AGE'], data4['Elec_2v6'])\n",
    "print (table_2v6)\n",
    "\n",
    "# column percentages\n",
    "colsum=table_2v6.sum(axis=0)\n",
    "colpct=table_2v6/colsum\n",
    "print(colpct)\n",
    "\n",
    "print ('chi-square value, p value, expected counts')\n",
    "cs_2v6= scipy.stats.chi2_contingency(table_2v6)\n",
    "print (cs_2v6)"
   ]
  },
  {
   "cell_type": "code",
   "execution_count": 253,
   "metadata": {},
   "outputs": [
    {
     "name": "stdout",
     "output_type": "stream",
     "text": [
      "Elec_3v4  3.0  4.0\n",
      "AGE               \n",
      "0          81    6\n",
      "1         192  115\n",
      "Elec_3v4       3.0       4.0\n",
      "AGE                         \n",
      "0         0.296703  0.049587\n",
      "1         0.703297  0.950413\n",
      "chi-square value, p value, expected counts\n",
      "(28.338129494062635, 1.0186955390669189e-07, 1, array([[ 60.28172589,  26.71827411],\n",
      "       [212.71827411,  94.28172589]]))\n"
     ]
    }
   ],
   "source": [
    "recode_3v4 = {3: 3, 4: 4}\n",
    "data4['Elec_3v4']= data4['ElecGroup'].map(recode_3v4)\n",
    "\n",
    "# contingency table of observed counts\n",
    "table_3v4=pd.crosstab(data4['AGE'], data4['Elec_3v4'])\n",
    "print (table_3v4)\n",
    "\n",
    "# column percentages\n",
    "colsum=table_3v4.sum(axis=0)\n",
    "colpct=table_3v4/colsum\n",
    "print(colpct)\n",
    "\n",
    "print ('chi-square value, p value, expected counts')\n",
    "cs_3v4= scipy.stats.chi2_contingency(table_3v4)\n",
    "print (cs_3v4)"
   ]
  },
  {
   "cell_type": "code",
   "execution_count": 254,
   "metadata": {},
   "outputs": [
    {
     "name": "stdout",
     "output_type": "stream",
     "text": [
      "Elec_3v5  3.0  5.0\n",
      "AGE               \n",
      "0          81    0\n",
      "1         192   60\n",
      "Elec_3v5       3.0  5.0\n",
      "AGE                    \n",
      "0         0.296703  0.0\n",
      "1         0.703297  1.0\n",
      "chi-square value, p value, expected counts\n",
      "(21.94009081196581, 2.8129558697502437e-06, 1, array([[ 66.40540541,  14.59459459],\n",
      "       [206.59459459,  45.40540541]]))\n"
     ]
    }
   ],
   "source": [
    "recode_3v5 = {3: 3, 5: 5}\n",
    "data4['Elec_3v5']= data4['ElecGroup'].map(recode_3v5)\n",
    "\n",
    "# contingency table of observed counts\n",
    "table_3v5=pd.crosstab(data4['AGE'], data4['Elec_3v5'])\n",
    "print (table_3v5)\n",
    "\n",
    "# column percentages\n",
    "colsum=table_3v5.sum(axis=0)\n",
    "colpct=table_3v5/colsum\n",
    "print(colpct)\n",
    "\n",
    "print ('chi-square value, p value, expected counts')\n",
    "cs_3v5= scipy.stats.chi2_contingency(table_3v5)\n",
    "print (cs_3v5)"
   ]
  },
  {
   "cell_type": "code",
   "execution_count": 255,
   "metadata": {},
   "outputs": [
    {
     "name": "stdout",
     "output_type": "stream",
     "text": [
      "Elec_3v6  3.0  6.0\n",
      "AGE               \n",
      "0          81    0\n",
      "1         192   11\n",
      "Elec_3v6       3.0  6.0\n",
      "AGE                    \n",
      "0         0.296703  0.0\n",
      "1         0.703297  1.0\n",
      "chi-square value, p value, expected counts\n",
      "(3.2266033951857707, 0.07245081307991667, 1, array([[ 77.86267606,   3.13732394],\n",
      "       [195.13732394,   7.86267606]]))\n"
     ]
    }
   ],
   "source": [
    "recode_3v6 = {3: 3, 6: 6}\n",
    "data4['Elec_3v6']= data4['ElecGroup'].map(recode_3v6)\n",
    "\n",
    "# contingency table of observed counts\n",
    "table_3v6=pd.crosstab(data4['AGE'], data4['Elec_3v6'])\n",
    "print (table_3v6)\n",
    "\n",
    "# column percentages\n",
    "colsum=table_3v6.sum(axis=0)\n",
    "colpct=table_3v6/colsum\n",
    "print(colpct)\n",
    "\n",
    "print ('chi-square value, p value, expected counts')\n",
    "cs_3v6= scipy.stats.chi2_contingency(table_3v6)\n",
    "print (cs_3v6)"
   ]
  },
  {
   "cell_type": "code",
   "execution_count": 256,
   "metadata": {},
   "outputs": [
    {
     "name": "stdout",
     "output_type": "stream",
     "text": [
      "Elec_4v5  4.0  5.0\n",
      "AGE               \n",
      "0           6    0\n",
      "1         115   60\n",
      "Elec_4v5       4.0  5.0\n",
      "AGE                    \n",
      "0         0.049587  0.0\n",
      "1         0.950413  1.0\n",
      "chi-square value, p value, expected counts\n",
      "(1.7245277777777779, 0.189111262313004, 1, array([[  4.01104972,   1.98895028],\n",
      "       [116.98895028,  58.01104972]]))\n"
     ]
    }
   ],
   "source": [
    "recode_4v5 = {4: 4, 5: 5}\n",
    "data4['Elec_4v5']= data4['ElecGroup'].map(recode_4v5)\n",
    "\n",
    "# contingency table of observed counts\n",
    "table_4v5=pd.crosstab(data4['AGE'], data4['Elec_4v5'])\n",
    "print (table_4v5)\n",
    "\n",
    "# column percentages\n",
    "colsum=table_4v5.sum(axis=0)\n",
    "colpct=table_4v5/colsum\n",
    "print(colpct)\n",
    "\n",
    "print ('chi-square value, p value, expected counts')\n",
    "cs_4v5= scipy.stats.chi2_contingency(table_4v5)\n",
    "print (cs_4v5)"
   ]
  },
  {
   "cell_type": "code",
   "execution_count": 257,
   "metadata": {},
   "outputs": [
    {
     "name": "stdout",
     "output_type": "stream",
     "text": [
      "Elec_4v6  4.0  6.0\n",
      "AGE               \n",
      "0           6    0\n",
      "1         115   11\n",
      "Elec_4v6       4.0  6.0\n",
      "AGE                    \n",
      "0         0.049587  0.0\n",
      "1         0.950413  1.0\n",
      "chi-square value, p value, expected counts\n",
      "(0.0, 1.0, 1, array([[  5.5,   0.5],\n",
      "       [115.5,  10.5]]))\n"
     ]
    }
   ],
   "source": [
    "recode_4v6 = {4: 4, 6: 6}\n",
    "data4['Elec_4v6']= data4['ElecGroup'].map(recode_4v6)\n",
    "\n",
    "# contingency table of observed counts\n",
    "table_4v6=pd.crosstab(data4['AGE'], data4['Elec_4v6'])\n",
    "print (table_4v6)\n",
    "\n",
    "# column percentages\n",
    "colsum=table_4v6.sum(axis=0)\n",
    "colpct=table_4v6/colsum\n",
    "print(colpct)\n",
    "\n",
    "print ('chi-square value, p value, expected counts')\n",
    "cs_4v6= scipy.stats.chi2_contingency(table_4v6)\n",
    "print (cs_4v6)"
   ]
  },
  {
   "cell_type": "code",
   "execution_count": 258,
   "metadata": {},
   "outputs": [
    {
     "name": "stdout",
     "output_type": "stream",
     "text": [
      "Elec_5v6  5.0  6.0\n",
      "AGE               \n",
      "1          60   11\n",
      "Elec_5v6  5.0  6.0\n",
      "AGE               \n",
      "1           1    1\n",
      "chi-square value, p value, expected counts\n",
      "(0.0, 1.0, 0, array([[60., 11.]]))\n"
     ]
    }
   ],
   "source": [
    "recode_5v6 = {5: 5, 6: 6}\n",
    "data4['Elec_5v6']= data4['ElecGroup'].map(recode_5v6)\n",
    "\n",
    "# contingency table of observed counts\n",
    "table_5v6=pd.crosstab(data4['AGE'], data4['Elec_5v6'])\n",
    "print (table_5v6)\n",
    "\n",
    "# column percentages\n",
    "colsum=table_5v6.sum(axis=0)\n",
    "colpct=table_5v6/colsum\n",
    "print(colpct)\n",
    "\n",
    "print ('chi-square value, p value, expected counts')\n",
    "cs_5v6= scipy.stats.chi2_contingency(table_5v6)\n",
    "print (cs_5v6)"
   ]
  },
  {
   "cell_type": "markdown",
   "metadata": {},
   "source": [
    "## C) PEARSON CORRELATION BETWEEN TWO NUMERIC VARIABLES:"
   ]
  },
  {
   "cell_type": "code",
   "execution_count": 260,
   "metadata": {},
   "outputs": [
    {
     "data": {
      "text/plain": [
       "<matplotlib.axes._subplots.AxesSubplot at 0x2645ee96160>"
      ]
     },
     "execution_count": 260,
     "metadata": {},
     "output_type": "execute_result"
    },
    {
     "data": {
      "image/png": "[encoded data removed]",
      "text/plain": [
       "<Figure size 432x288 with 1 Axes>"
      ]
     },
     "metadata": {
      "needs_background": "light"
     },
     "output_type": "display_data"
    }
   ],
   "source": [
    "seaborn.regplot(x= \"Elec_usage\", y= \"Median_Age\", fit_reg= False, data= data)"
   ]
  },
  {
   "cell_type": "code",
   "execution_count": 262,
   "metadata": {},
   "outputs": [
    {
     "name": "stdout",
     "output_type": "stream",
     "text": [
      "association between Elec. usage pre person and Median Age\n",
      "(0.617638613515279, 7.588818646419762e-93)\n"
     ]
    }
   ],
   "source": [
    "print('association between Elec. usage pre person and Median Age')\n",
    "print(scipy.stats.pearsonr(data['Elec_usage'], data['Median_Age']))"
   ]
  },
  {
   "cell_type": "markdown",
   "metadata": {},
   "source": [
    "# Bu kisim degisecek mesela coefficient positive\n",
    "# Interpretation of the above result: The coefficient is negative. \n",
    "As we can see from the scatter plot above, mortality rate decreases as the GDP increases. However this correlation is not very strong. The p-value suggests that the computed coefficient is significant. "
   ]
  },
  {
   "cell_type": "code",
   "execution_count": null,
   "metadata": {},
   "outputs": [],
   "source": []
  }
 ],
 "metadata": {
  "kernelspec": {
   "display_name": "Python 3",
   "language": "python",
   "name": "python3"
  },
  "language_info": {
   "codemirror_mode": {
    "name": "ipython",
    "version": 3
   },
   "file_extension": ".py",
   "mimetype": "text/x-python",
   "name": "python",
   "nbconvert_exporter": "python",
   "pygments_lexer": "ipython3",
   "version": "3.7.1"
  }
 },
 "nbformat": 4,
 "nbformat_minor": 2
}
