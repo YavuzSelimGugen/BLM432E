{
 "cells": [
  {
   "cell_type": "code",
   "execution_count": 3,
   "metadata": {},
   "outputs": [
    {
     "data": {
      "text/plain": [
       "'cook'"
      ]
     },
     "execution_count": 3,
     "metadata": {},
     "output_type": "execute_result"
    }
   ],
   "source": [
    "#Stemming words, kök almak\n",
    "from nltk.stem import PorterStemmer\n",
    "stemmer=PorterStemmer()\n",
    "stemmer.stem('cooking')"
   ]
  },
  {
   "cell_type": "code",
   "execution_count": 4,
   "metadata": {},
   "outputs": [
    {
     "data": {
      "text/plain": [
       "'cook'"
      ]
     },
     "execution_count": 4,
     "metadata": {},
     "output_type": "execute_result"
    }
   ],
   "source": [
    "#RegexpStemmer class, istediğimiz kısıları kelimeden silebiliriz.\n",
    "from nltk.stem import RegexpStemmer\n",
    "stemmer=RegexpStemmer('ing')\n",
    "stemmer.stem('cooking')"
   ]
  },
  {
   "cell_type": "code",
   "execution_count": 7,
   "metadata": {},
   "outputs": [
    {
     "data": {
      "text/plain": [
       "'cook'"
      ]
     },
     "execution_count": 7,
     "metadata": {},
     "output_type": "execute_result"
    }
   ],
   "source": [
    "#Lemmatizing, WordNet ile kelimenin ağaçtaki yerine bakarak köküne ulaşabiliriz.\n",
    "from nltk.stem import WordNetLemmatizer\n",
    "lemmatizer=WordNetLemmatizer()\n",
    "lemmatizer.lemmatize('cooking', pos='v')"
   ]
  },
  {
   "cell_type": "code",
   "execution_count": 10,
   "metadata": {},
   "outputs": [
    {
     "name": "stdout",
     "output_type": "stream",
     "text": [
      "believ\n",
      "belief\n"
     ]
    }
   ],
   "source": [
    "#yukarıdakinin aynısı farklı bir yöntemle. Farklarını gör.\n",
    "from nltk.stem import PorterStemmer\n",
    "stemmer=PorterStemmer()\n",
    "print(stemmer.stem('believes'))\n",
    "print(lemmatizer.lemmatize('believes'))"
   ]
  },
  {
   "cell_type": "code",
   "execution_count": 12,
   "metadata": {},
   "outputs": [
    {
     "name": "stdout",
     "output_type": "stream",
     "text": [
      "buse\n",
      "bus\n"
     ]
    }
   ],
   "source": [
    "#yukarıdakine göre stemming ve lemmatizationu birleştirelim.\n",
    "print(stemmer.stem('buses'))\n",
    "print(lemmatizer.lemmatize('buses'))"
   ]
  },
  {
   "cell_type": "code",
   "execution_count": 17,
   "metadata": {},
   "outputs": [],
   "source": [
    "#regex ile kelime dönüşüm patternleri yapıyoruz, kısa yazılmış kelimeleri uzatıyoruz.\n",
    "import re\n",
    "replacement_patterns=[\n",
    "    (r'won\\'t','will not'),\n",
    "    (r'can\\'t','can not')\n",
    "    #daha da yazılır 35. sayfada var devamı.\n",
    "]\n",
    "\n",
    "class RegexpReplacer(object):\n",
    "    def __init__(self,patterns=replacement_patterns):\n",
    "        self.patterns=[(re.compile(regex),rep1) for (regex,rep1) in patterns]\n",
    "    \n",
    "    def replace(self,text):\n",
    "        s=text\n",
    "        for(pattern,rep1) in self.patterns:\n",
    "            s=re.sub(pattern,rep1,s)\n",
    "        return s"
   ]
  },
  {
   "cell_type": "code",
   "execution_count": 18,
   "metadata": {},
   "outputs": [
    {
     "data": {
      "text/plain": [
       "'can not is a constraction'"
      ]
     },
     "execution_count": 18,
     "metadata": {},
     "output_type": "execute_result"
    }
   ],
   "source": [
    "#from replacers import RegexpReplacer, burada işe yaramıyor, compilerde yarar.\n",
    "replacer=RegexpReplacer()\n",
    "replacer.replace(\"can't is a constraction\")"
   ]
  },
  {
   "cell_type": "code",
   "execution_count": 19,
   "metadata": {},
   "outputs": [
    {
     "name": "stdout",
     "output_type": "stream",
     "text": [
      "['ca', \"n't\", 'is', 'a', 'contraction']\n",
      "['can', 'not', 'is', 'a', 'contraction']\n"
     ]
    }
   ],
   "source": [
    "#tokenizer ile birleştirelim\n",
    "from nltk.tokenize import word_tokenize\n",
    "#from replacers import RegexpReplacer\n",
    "replacer=RegexpReplacer()\n",
    "print(word_tokenize(\"can't is a contraction\"))#birleşmemiş hali nasıl çalışıyor?\n",
    "print(word_tokenize(replacer.replace(\"can't is a contraction\")))"
   ]
  },
  {
   "cell_type": "code",
   "execution_count": 22,
   "metadata": {},
   "outputs": [],
   "source": [
    "#Removing repeating characters için sınıf oluşturup kullanalım.\n",
    "import re\n",
    "\n",
    "class RepeatReplacer(object):\n",
    "    def __init__(self):\n",
    "        self.repeat_regexp=re.compile(r'(\\w*)(\\w)\\2(\\w*)')\n",
    "        self.rep1=r'\\1\\2\\3'\n",
    "    def replace(self,word):\n",
    "        rep1_word=self.repeat_regexp.sub(self.rep1,word)\n",
    "        if rep1_word!=word:\n",
    "            return self.replace(rep1_word)\n",
    "        else:\n",
    "            return rep1_word"
   ]
  },
  {
   "cell_type": "code",
   "execution_count": 23,
   "metadata": {},
   "outputs": [
    {
     "name": "stdout",
     "output_type": "stream",
     "text": [
      "love\n",
      "gose\n"
     ]
    }
   ],
   "source": [
    "#from replacers import RepeatReplacer\n",
    "replacer=RepeatReplacer()\n",
    "print(replacer.replace('looooooove'))\n",
    "print(replacer.replace('gooosee'))"
   ]
  },
  {
   "cell_type": "code",
   "execution_count": 24,
   "metadata": {
    "collapsed": true
   },
   "outputs": [],
   "source": [
    "#yukarıdakinde gose hatalı bir sonuç. Daha doğru bir şey için bulunan sonuç var olan bir kelimemidir diye de\n",
    "#kontrol ettirmek gerekir. Burada da wordnet kullanıyoruz.\n",
    "import re\n",
    "from nltk.corpus import wordnet\n",
    "\n",
    "class RepeatReplacer(object):\n",
    "    def __init__(self):\n",
    "        self.repeat_regexp=re.compile(r'(\\w*)(\\w)\\2(\\w*)')\n",
    "        self.rep1=r'\\1\\2\\3'\n",
    "    def replace(self,word):\n",
    "        if wordnet.synsets(word):\n",
    "            return word\n",
    "        rep1_word=self.repeat_regexp.sub(self.rep1,word)\n",
    "        if rep1_word!=word:\n",
    "            return self.replace(rep1_word)\n",
    "        else:\n",
    "            return rep1_word"
   ]
  },
  {
   "cell_type": "code",
   "execution_count": 25,
   "metadata": {},
   "outputs": [
    {
     "name": "stdout",
     "output_type": "stream",
     "text": [
      "love\n",
      "goose\n"
     ]
    }
   ],
   "source": [
    "#from replacers import RepeatReplacer buradaki sonuçlar doğru olacaklar çünkü kontrol ediliyorlar.\n",
    "replacer=RepeatReplacer()\n",
    "print(replacer.replace('looooooove'))\n",
    "print(replacer.replace('gooosee'))"
   ]
  },
  {
   "cell_type": "code",
   "execution_count": null,
   "metadata": {
    "collapsed": true
   },
   "outputs": [],
   "source": [
    "#sayfa 39 Spelling Correction With Enchant windowsta olmadığı için yapılamadı."
   ]
  },
  {
   "cell_type": "code",
   "execution_count": 29,
   "metadata": {},
   "outputs": [
    {
     "name": "stdout",
     "output_type": "stream",
     "text": [
      "birthday\n",
      "happy\n"
     ]
    }
   ],
   "source": [
    "#Replacig synonyms\n",
    "class WordReplacer(object):\n",
    "    def __init__(self,word_map):\n",
    "        self.word_map=word_map\n",
    "        \n",
    "    def replace(self,word):\n",
    "        return self.word_map.get(word,word)\n",
    "    \n",
    "#from replacers import WordReplacer\n",
    "replacer=WordReplacer({'bday':'birthday'})#daha da eklenebilir\n",
    "print(replacer.replace('bday'))\n",
    "print(replacer.replace('happy'))"
   ]
  },
  {
   "cell_type": "code",
   "execution_count": 30,
   "metadata": {},
   "outputs": [
    {
     "ename": "FileNotFoundError",
     "evalue": "[Errno 2] No such file or directory: 'synonyms.csv'",
     "output_type": "error",
     "traceback": [
      "\u001b[1;31m---------------------------------------------------------------------------\u001b[0m",
      "\u001b[1;31mFileNotFoundError\u001b[0m                         Traceback (most recent call last)",
      "\u001b[1;32m<ipython-input-30-c1b4fbf045f2>\u001b[0m in \u001b[0;36m<module>\u001b[1;34m()\u001b[0m\n\u001b[0;32m     11\u001b[0m \u001b[1;33m\u001b[0m\u001b[0m\n\u001b[0;32m     12\u001b[0m \u001b[1;31m#from replacers import CsvWordReplacer\u001b[0m\u001b[1;33m\u001b[0m\u001b[1;33m\u001b[0m\u001b[0m\n\u001b[1;32m---> 13\u001b[1;33m \u001b[0mreplacer\u001b[0m\u001b[1;33m=\u001b[0m\u001b[0mCsvWordReplacer\u001b[0m\u001b[1;33m(\u001b[0m\u001b[1;34m'synonyms.csv'\u001b[0m\u001b[1;33m)\u001b[0m\u001b[1;33m\u001b[0m\u001b[0m\n\u001b[0m\u001b[0;32m     14\u001b[0m \u001b[0mreplacer\u001b[0m\u001b[1;33m.\u001b[0m\u001b[0mreplace\u001b[0m\u001b[1;33m(\u001b[0m\u001b[1;34m'bday'\u001b[0m\u001b[1;33m)\u001b[0m\u001b[1;33m\u001b[0m\u001b[0m\n",
      "\u001b[1;32m<ipython-input-30-c1b4fbf045f2>\u001b[0m in \u001b[0;36m__init__\u001b[1;34m(self, fname)\u001b[0m\n\u001b[0;32m      5\u001b[0m     \u001b[1;32mdef\u001b[0m \u001b[0m__init__\u001b[0m\u001b[1;33m(\u001b[0m\u001b[0mself\u001b[0m\u001b[1;33m,\u001b[0m\u001b[0mfname\u001b[0m\u001b[1;33m)\u001b[0m\u001b[1;33m:\u001b[0m\u001b[1;33m\u001b[0m\u001b[0m\n\u001b[0;32m      6\u001b[0m         \u001b[0mword_map\u001b[0m\u001b[1;33m=\u001b[0m\u001b[1;33m{\u001b[0m\u001b[1;33m}\u001b[0m\u001b[1;33m\u001b[0m\u001b[0m\n\u001b[1;32m----> 7\u001b[1;33m         \u001b[1;32mfor\u001b[0m \u001b[0mline\u001b[0m \u001b[1;32min\u001b[0m \u001b[0mcsv\u001b[0m\u001b[1;33m.\u001b[0m\u001b[0mreader\u001b[0m\u001b[1;33m(\u001b[0m\u001b[0mopen\u001b[0m\u001b[1;33m(\u001b[0m\u001b[0mfname\u001b[0m\u001b[1;33m)\u001b[0m\u001b[1;33m)\u001b[0m\u001b[1;33m:\u001b[0m\u001b[1;33m\u001b[0m\u001b[0m\n\u001b[0m\u001b[0;32m      8\u001b[0m             \u001b[0mword\u001b[0m\u001b[1;33m,\u001b[0m\u001b[0msyn\u001b[0m\u001b[1;33m=\u001b[0m\u001b[0mline\u001b[0m\u001b[1;33m\u001b[0m\u001b[0m\n\u001b[0;32m      9\u001b[0m             \u001b[0mword_map\u001b[0m\u001b[1;33m[\u001b[0m\u001b[0mword\u001b[0m\u001b[1;33m]\u001b[0m\u001b[1;33m=\u001b[0m\u001b[0msyn\u001b[0m\u001b[1;33m\u001b[0m\u001b[0m\n",
      "\u001b[1;31mFileNotFoundError\u001b[0m: [Errno 2] No such file or directory: 'synonyms.csv'"
     ]
    }
   ],
   "source": [
    "#CSV ile synonym replacement\n",
    "import csv\n",
    "\n",
    "class CsvWordReplacer(WordReplacer):\n",
    "    def __init__(self,fname):\n",
    "        word_map={}\n",
    "        for line in csv.reader(open(fname)):\n",
    "            word,syn=line\n",
    "            word_map[word]=syn\n",
    "        super(CsvWordReplacer,self).__init__(word_map)\n",
    "        \n",
    "#from replacers import CsvWordReplacer\n",
    "replacer=CsvWordReplacer('synonyms.csv')\n",
    "replacer.replace('bday')\n",
    "#dosyayı bulamıyor."
   ]
  },
  {
   "cell_type": "code",
   "execution_count": 33,
   "metadata": {},
   "outputs": [
    {
     "ename": "FileNotFoundError",
     "evalue": "[Errno 2] No such file or directory: 'synonyms.yam1'",
     "output_type": "error",
     "traceback": [
      "\u001b[1;31m---------------------------------------------------------------------------\u001b[0m",
      "\u001b[1;31mFileNotFoundError\u001b[0m                         Traceback (most recent call last)",
      "\u001b[1;32m<ipython-input-33-54c59c6db208>\u001b[0m in \u001b[0;36m<module>\u001b[1;34m()\u001b[0m\n\u001b[0;32m      7\u001b[0m \u001b[1;33m\u001b[0m\u001b[0m\n\u001b[0;32m      8\u001b[0m \u001b[1;31m#from replacers import Yam1WordReplacer\u001b[0m\u001b[1;33m\u001b[0m\u001b[1;33m\u001b[0m\u001b[0m\n\u001b[1;32m----> 9\u001b[1;33m \u001b[0mreplacer\u001b[0m\u001b[1;33m=\u001b[0m\u001b[0mYamlWordReplacer\u001b[0m\u001b[1;33m(\u001b[0m\u001b[1;34m'synonyms.yam1'\u001b[0m\u001b[1;33m)\u001b[0m\u001b[1;33m\u001b[0m\u001b[0m\n\u001b[0m\u001b[0;32m     10\u001b[0m \u001b[0mreplacer\u001b[0m\u001b[1;33m.\u001b[0m\u001b[0mreplace\u001b[0m\u001b[1;33m(\u001b[0m\u001b[1;34m'bday'\u001b[0m\u001b[1;33m)\u001b[0m\u001b[1;33m\u001b[0m\u001b[0m\n",
      "\u001b[1;32m<ipython-input-33-54c59c6db208>\u001b[0m in \u001b[0;36m__init__\u001b[1;34m(self, fname)\u001b[0m\n\u001b[0;32m      3\u001b[0m \u001b[1;32mclass\u001b[0m \u001b[0mYamlWordReplacer\u001b[0m\u001b[1;33m(\u001b[0m\u001b[0mWordReplacer\u001b[0m\u001b[1;33m)\u001b[0m\u001b[1;33m:\u001b[0m\u001b[1;33m\u001b[0m\u001b[0m\n\u001b[0;32m      4\u001b[0m     \u001b[1;32mdef\u001b[0m \u001b[0m__init__\u001b[0m\u001b[1;33m(\u001b[0m\u001b[0mself\u001b[0m\u001b[1;33m,\u001b[0m\u001b[0mfname\u001b[0m\u001b[1;33m)\u001b[0m\u001b[1;33m:\u001b[0m\u001b[1;33m\u001b[0m\u001b[0m\n\u001b[1;32m----> 5\u001b[1;33m         \u001b[0mword_map\u001b[0m\u001b[1;33m=\u001b[0m\u001b[0myaml\u001b[0m\u001b[1;33m.\u001b[0m\u001b[0mload\u001b[0m\u001b[1;33m(\u001b[0m\u001b[0mopen\u001b[0m\u001b[1;33m(\u001b[0m\u001b[0mfname\u001b[0m\u001b[1;33m)\u001b[0m\u001b[1;33m)\u001b[0m\u001b[1;33m\u001b[0m\u001b[0m\n\u001b[0m\u001b[0;32m      6\u001b[0m         \u001b[0msuper\u001b[0m\u001b[1;33m(\u001b[0m\u001b[0mYamlWordReplacer\u001b[0m\u001b[1;33m,\u001b[0m\u001b[0mself\u001b[0m\u001b[1;33m)\u001b[0m\u001b[1;33m.\u001b[0m\u001b[0m__init__\u001b[0m\u001b[1;33m(\u001b[0m\u001b[0mword_map\u001b[0m\u001b[1;33m)\u001b[0m\u001b[1;33m\u001b[0m\u001b[0m\n\u001b[0;32m      7\u001b[0m \u001b[1;33m\u001b[0m\u001b[0m\n",
      "\u001b[1;31mFileNotFoundError\u001b[0m: [Errno 2] No such file or directory: 'synonyms.yam1'"
     ]
    }
   ],
   "source": [
    "import yaml\n",
    "\n",
    "class YamlWordReplacer(WordReplacer):\n",
    "    def __init__(self,fname):\n",
    "        word_map=yaml.load(open(fname))\n",
    "        super(YamlWordReplacer,self).__init__(word_map)\n",
    "        \n",
    "#from replacers import Yam1WordReplacer\n",
    "replacer=YamlWordReplacer('synonyms.yam1')\n",
    "replacer.replace('bday')"
   ]
  },
  {
   "cell_type": "code",
   "execution_count": 39,
   "metadata": {},
   "outputs": [
    {
     "name": "stdout",
     "output_type": "stream",
     "text": [
      "None\n",
      "beautify\n",
      "[\"let's\", 'beautify', 'our', 'code']\n"
     ]
    }
   ],
   "source": [
    "#negatifleri pozitif olan zıtlarıyla değiştir.\n",
    "from nltk.corpus import wordnet\n",
    "\n",
    "class AntonymReplacer(object):\n",
    "    def replace(self,word,pos=None):\n",
    "        antonyms=set()\n",
    "        for syn in wordnet.synsets(word,pos=pos):\n",
    "            for lemma in syn.lemmas():\n",
    "                for antonym in lemma.antonyms():\n",
    "                    antonyms.add(antonym.name())\n",
    "        if len(antonyms)==1:\n",
    "            return antonyms.pop()\n",
    "        else:\n",
    "            return None\n",
    "    \n",
    "    def replace_negations(self,sent):\n",
    "        i,l=0, len(sent)\n",
    "        words=[]\n",
    "        while i<l:\n",
    "            word=sent[i]\n",
    "            if word=='not' and i+1<l:\n",
    "                ant=self.replace(sent[i+1])\n",
    "                if ant:\n",
    "                    words.append(ant)\n",
    "                    i+=2\n",
    "                    continue\n",
    "            words.append(word)\n",
    "            i+=1\n",
    "        return words\n",
    "    \n",
    "#from replacers import AntonymReplacer\n",
    "replacer=AntonymReplacer()\n",
    "print(replacer.replace('good'))\n",
    "print(replacer.replace('uglify'))\n",
    "sent=[\"let's\",'not','uglify','our','code']\n",
    "print(replacer.replace_negations(sent))"
   ]
  }
 ],
 "metadata": {
  "kernelspec": {
   "display_name": "Python 3",
   "language": "python",
   "name": "python3"
  },
  "language_info": {
   "codemirror_mode": {
    "name": "ipython",
    "version": 3
   },
   "file_extension": ".py",
   "mimetype": "text/x-python",
   "name": "python",
   "nbconvert_exporter": "python",
   "pygments_lexer": "ipython3",
   "version": "3.6.3"
  }
 },
 "nbformat": 4,
 "nbformat_minor": 2
}
